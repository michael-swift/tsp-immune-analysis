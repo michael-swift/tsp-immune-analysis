{
 "cells": [
  {
   "cell_type": "code",
   "execution_count": 38,
   "id": "d80c233a-55d0-477b-a54e-8bb6f1bc10f3",
   "metadata": {},
   "outputs": [],
   "source": [
    "import pandas as pd\n",
    "pd.set_option('display.max_colwidth', None)\n",
    "pd.set_option('display.max_rows', 100)\n",
    "pd.set_option('display.max_columns', 20) \n",
    "pd.set_option('display.width', 100)"
   ]
  },
  {
   "cell_type": "code",
   "execution_count": 41,
   "id": "5b8ec67b-3fdb-4ccb-bd2d-daea9ab411d7",
   "metadata": {},
   "outputs": [
    {
     "name": "stderr",
     "output_type": "stream",
     "text": [
      "/home/michaelswift/miniconda3/envs/scirpy/lib/python3.8/site-packages/IPython/core/interactiveshell.py:3169: DtypeWarning: Columns (93,94) have mixed types.Specify dtype option on import or set low_memory=False.\n",
      "  has_raised = await self.run_ast_nodes(code_ast.body, cell_name,\n"
     ]
    }
   ],
   "source": [
    "airr = pd.read_table('../data/snkmk_outs/combined_igblast.airr.tsv')"
   ]
  },
  {
   "cell_type": "code",
   "execution_count": 42,
   "id": "d3614f1e-9282-4e92-b9aa-11fb95434f36",
   "metadata": {},
   "outputs": [
    {
     "name": "stdout",
     "output_type": "stream",
     "text": [
      "21079\n",
      "21079 removed presumed merging artefacts\n",
      "19269 removed unproductive chains\n",
      "19269 assemblies from TS\n"
     ]
    }
   ],
   "source": [
    "airr.productive == 'T'\n",
    "\n",
    "# get rid of merging artefacts\n",
    "print(airr.shape[0])\n",
    "airr = airr.dropna(subset=['locus'])\n",
    "print(airr.shape[0], \"removed presumed merging artefacts\")\n",
    "airr = airr[airr.productive == \"T\"]\n",
    "print(airr.shape[0], \"removed unproductive chains\")\n",
    "\n",
    "print(\"{} assemblies from TS\".format(airr.shape[0]))\n",
    "\n",
    "#df = pd.read_csv('notebooks/Clonality/BCRChangeo.csv', index_col=0)\n",
    "df = airr\n",
    "#10X\n",
    "df.loc[:,\"cell_id\"] = df.sequence_id.replace('_contig_[0-9]', '', regex=True)\n",
    "df.cell_id.replace(\"\\-\",\"_\", regex=True, inplace=True)\n",
    "# 10X\n",
    "df.cell_id.replace(\"_5prime..CR\", '_5prime', regex = True, inplace = True)\n",
    "df.cell_id.replace('_[0-9]_[T][S]', '_TS',regex = True, inplace = True)\n",
    "df.cell_id.replace('10X_[0-9]_[0-9]', '10X',regex = True, inplace = True)\n",
    "df.loc[:, 'cell_id'] = df.cell_id.str.rsplit(\" \", expand=True)[0]\n",
    "\n",
    "df.head().cell_id.values[-20:]\n",
    "# Munge the data a little\n",
    "df.loc[:, 'cell_id'] = df.cell_id.str.split('|', expand=True)[0]"
   ]
  },
  {
   "cell_type": "markdown",
   "id": "97e441e8-f715-46dc-8309-c63efa4bf0a3",
   "metadata": {},
   "source": [
    "## TSP metadata"
   ]
  },
  {
   "cell_type": "code",
   "execution_count": 61,
   "id": "464dc5dc-68a2-4247-b274-6248aad99d34",
   "metadata": {},
   "outputs": [
    {
     "data": {
      "text/plain": [
       "tissue    cell_ontology_class\n",
       "Bladder   plasma cell            84\n",
       "          b cell                 11\n",
       "Blood     naive b cell           35\n",
       "          memory b cell          25\n",
       "Lung      club cell               9\n",
       "          b cell                  3\n",
       "          plasma cell             1\n",
       "Pancreas  b cell                 89\n",
       "Name: cell_ontology_class, dtype: int64"
      ]
     },
     "execution_count": 61,
     "metadata": {},
     "output_type": "execute_result"
    }
   ],
   "source": [
    "met[(met.donor == 'TSP1') & \n",
    "    (met.method == 'smartseq2') & \n",
    "    (met.cell_ontology_class.str.contains('b cell|plasma cell'))].groupby('tissue').cell_ontology_class.value_counts()"
   ]
  },
  {
   "cell_type": "code",
   "execution_count": null,
   "id": "2d88e255-a392-482f-9b12-2c50377db5a8",
   "metadata": {},
   "outputs": [],
   "source": [
    "met[(met.donor == 'TSP1') & (met.method != '10X') & (met.cell_ontology_class.str.contains('b cell|plasma cell'))]"
   ]
  },
  {
   "cell_type": "code",
   "execution_count": 45,
   "id": "8c5ab3ea-9c8e-4b23-9544-fca50af1dede",
   "metadata": {},
   "outputs": [
    {
     "name": "stderr",
     "output_type": "stream",
     "text": [
      "/home/michaelswift/miniconda3/envs/scirpy/lib/python3.8/site-packages/IPython/core/interactiveshell.py:3169: DtypeWarning: Columns (10,14,15,16,17,18) have mixed types.Specify dtype option on import or set low_memory=False.\n",
      "  has_raised = await self.run_ast_nodes(code_ast.body, cell_name,\n",
      "<ipython-input-45-4e33b9203cf6>:10: FutureWarning: The default value of regex will change from True to False in a future version.\n",
      "  met['_cell_id'] = met['_cell_id'].str.replace('.homo.gencode.v30.ERCC.chrM', '')\n"
     ]
    }
   ],
   "source": [
    "met = pd.read_csv('../data/TSP1_TSP15_metadata.csv')\n",
    "#met = pd.read_csv('Immune_Obs.csv')\n",
    "\n",
    "# yet another corner case currently not worth fixing this, maybe angela can do it\n",
    "met[(met.donor == \"TSP1\") & (met.method == 'smartseq2')].cell_id.str.rsplit(\".\", n = 5, expand = True)[0]\n",
    "\n",
    "\n",
    "met['_cell_id'] = met['cell_id']\n",
    "met['_cell_id'] = met['_cell_id'].str.replace('_[0-2]_[0-2]_5prime', '_5prime', regex = True)\n",
    "met['_cell_id'] = met['_cell_id'].str.replace('.homo.gencode.v30.ERCC.chrM', '')"
   ]
  },
  {
   "cell_type": "code",
   "execution_count": 46,
   "id": "a763ae83-d421-45f0-a3a0-6f64087a142e",
   "metadata": {},
   "outputs": [],
   "source": [
    "merged = pd.merge(df, met, how = 'inner', left_on='cell_id', right_on='_cell_id')"
   ]
  },
  {
   "cell_type": "code",
   "execution_count": 47,
   "id": "13087cac-9513-4794-bc4a-bc600a3bbf74",
   "metadata": {},
   "outputs": [
    {
     "name": "stdout",
     "output_type": "stream",
     "text": [
      "10801 assmeblies remain after merging\n"
     ]
    }
   ],
   "source": [
    "print(merged.shape[0], \"assmeblies remain after merging\")"
   ]
  },
  {
   "cell_type": "code",
   "execution_count": 56,
   "id": "c8273f4c-bbd6-43c7-b17a-35ca089753bf",
   "metadata": {},
   "outputs": [
    {
     "data": {
      "text/plain": [
       "Lymph_Node         852\n",
       "Spleen             598\n",
       "Blood              222\n",
       "Salivary_Gland     119\n",
       "Pancreas            90\n",
       "Bone_Marrow         71\n",
       "Kidney              67\n",
       "Fat                 30\n",
       "Eye                 27\n",
       "Lung                20\n",
       "Skin                18\n",
       "Thymus              17\n",
       "Bladder             16\n",
       "Mammary             13\n",
       "Uterus               7\n",
       "Trachea              3\n",
       "Liver                3\n",
       "Vasculature          1\n",
       "Small_Intestine      1\n",
       "Name: tissue, dtype: int64"
      ]
     },
     "execution_count": 56,
     "metadata": {},
     "output_type": "execute_result"
    }
   ],
   "source": [
    "met[(met.cell_ontology_class.str.contains('b cell')) & (met.method == 'smartseq2')].tissue.value_counts()"
   ]
  },
  {
   "cell_type": "code",
   "execution_count": 48,
   "id": "86bc1437-50e6-4762-ad12-78bf7547a74c",
   "metadata": {},
   "outputs": [
    {
     "data": {
      "text/plain": [
       "donor  tissue         \n",
       "TSP1   Lung               13211\n",
       "       Bladder            11736\n",
       "       Pancreas            6798\n",
       "       Blood               4020\n",
       "       Muscle              3760\n",
       "TSP10  Fat                12768\n",
       "       Skin                5875\n",
       "       Blood               5028\n",
       "TSP11  Bone_Marrow         2514\n",
       "TSP12  Heart              11505\n",
       "TSP13  Bone_Marrow          543\n",
       "TSP14  Lymph_Node         30427\n",
       "       Thymus             21578\n",
       "       Spleen             18965\n",
       "       Salivary_Gland     17858\n",
       "       Lung               11971\n",
       "       Large_Intestine    11439\n",
       "       Small_Intestine    10458\n",
       "       Blood               9964\n",
       "       Vasculature         8684\n",
       "       Muscle              8404\n",
       "       Fat                 7696\n",
       "       Bone_Marrow         6095\n",
       "       Tongue              5428\n",
       "       Liver               4496\n",
       "       Skin                3563\n",
       "       Prostate            3282\n",
       "       Bladder             3066\n",
       "TSP15  Eye                 5651\n",
       "TSP2   Lung               18674\n",
       "       Muscle             16389\n",
       "       Thymus             12231\n",
       "       Blood              11790\n",
       "       Bladder             9781\n",
       "       Lymph_Node          9767\n",
       "       Kidney              9641\n",
       "       Vasculature         8680\n",
       "       Spleen              7679\n",
       "       Trachea             4409\n",
       "       Bone_Marrow         3451\n",
       "       Large_Intestine     2241\n",
       "       Small_Intestine     2009\n",
       "       Skin                 790\n",
       "TSP3   Eye                 2465\n",
       "TSP4   Mammary            11495\n",
       "       Uterus             11402\n",
       "       Muscle              2359\n",
       "       Tongue               209\n",
       "TSP5   Eye                 2600\n",
       "TSP6   Trachea             5171\n",
       "       Liver               4112\n",
       "TSP7   Blood              18292\n",
       "       Lymph_Node         13081\n",
       "       Salivary_Gland      9683\n",
       "       Tongue              9460\n",
       "       Spleen              7365\n",
       "TSP8   Prostate           13093\n",
       "       Blood               1974\n",
       "TSP9   Pancreas            6810\n",
       "Name: tissue, dtype: int64"
      ]
     },
     "execution_count": 48,
     "metadata": {},
     "output_type": "execute_result"
    }
   ],
   "source": [
    "met.groupby('donor').tissue.value_counts()"
   ]
  },
  {
   "cell_type": "code",
   "execution_count": 49,
   "id": "012c329f-4e13-4a07-a533-8acbcc7e7099",
   "metadata": {},
   "outputs": [
    {
     "data": {
      "text/plain": [
       "donor  cell_ontology_class                                        \n",
       "TSP1   cd4-positive, alpha-beta t cell                                158\n",
       "       naive b cell                                                    35\n",
       "       cd8-positive, alpha-beta t cell                                 26\n",
       "       memory b cell                                                   25\n",
       "       monocyte                                                        18\n",
       "       nk cell                                                         11\n",
       "       erythrocyte doublet                                              5\n",
       "       classical monocyte                                               4\n",
       "       cd4-positive helper t cell                                       3\n",
       "       intermediate monocyte                                            2\n",
       "       cd24 neutrophil                                                  1\n",
       "       erythrocyte                                                      1\n",
       "TSP2   monocyte                                                       519\n",
       "       cd4-positive, alpha-beta t cell                                335\n",
       "       naive b cell                                                   112\n",
       "       erythrocyte doublet                                             55\n",
       "       cd8-positive, alpha-beta t cell                                 43\n",
       "       nk cell                                                         38\n",
       "       erythrocyte                                                     15\n",
       "       nampt neutrophil                                                15\n",
       "       memory b cell                                                    9\n",
       "       hematopoietic stem cell                                          5\n",
       "       mature nk t cell                                                 1\n",
       "       platelet doublet                                                 1\n",
       "TSP7   classical monocyte                                             212\n",
       "       cd4-positive, alpha-beta memory t cell                          92\n",
       "       erythrocyte                                                     72\n",
       "       neutrophil                                                      62\n",
       "       platelet                                                        35\n",
       "       memory b cell                                                   28\n",
       "       nk cell                                                         28\n",
       "       cd8-positive, alpha-beta t cell                                 24\n",
       "       type i nk t cell                                                19\n",
       "       cd8-positive, alpha-beta cytokine secreting effector t cell     16\n",
       "       naive b cell                                                    13\n",
       "       naive thymus-derived cd4-positive, alpha-beta t cell             9\n",
       "       plasma cell                                                      3\n",
       "Name: cell_ontology_class, dtype: int64"
      ]
     },
     "execution_count": 49,
     "metadata": {},
     "output_type": "execute_result"
    }
   ],
   "source": [
    "met[(met['tissue'] == 'Blood') & (met['method'] =='smartseq2')].groupby('donor').cell_ontology_class.value_counts()"
   ]
  },
  {
   "cell_type": "code",
   "execution_count": 50,
   "id": "ae57673e-9172-4c09-8118-29b3ab37a7a4",
   "metadata": {},
   "outputs": [
    {
     "data": {
      "text/plain": [
       "TSP2     5980\n",
       "TSP7     1831\n",
       "TSP11     960\n",
       "TSP4      698\n",
       "TSP10     372\n",
       "TSP1      355\n",
       "TSP13     263\n",
       "TSP3       94\n",
       "TSP8       93\n",
       "TSP6       77\n",
       "TSP5       71\n",
       "TSP9        7\n",
       "Name: donor, dtype: int64"
      ]
     },
     "execution_count": 50,
     "metadata": {},
     "output_type": "execute_result"
    }
   ],
   "source": [
    "merged.donor.value_counts()"
   ]
  },
  {
   "cell_type": "code",
   "execution_count": 53,
   "id": "9728c1f1-c6e5-4dbf-836d-140170925c29",
   "metadata": {},
   "outputs": [
    {
     "data": {
      "text/html": [
       "<div>\n",
       "<style scoped>\n",
       "    .dataframe tbody tr th:only-of-type {\n",
       "        vertical-align: middle;\n",
       "    }\n",
       "\n",
       "    .dataframe tbody tr th {\n",
       "        vertical-align: top;\n",
       "    }\n",
       "\n",
       "    .dataframe thead th {\n",
       "        text-align: right;\n",
       "    }\n",
       "</style>\n",
       "<table border=\"1\" class=\"dataframe\">\n",
       "  <thead>\n",
       "    <tr style=\"text-align: right;\">\n",
       "      <th></th>\n",
       "      <th></th>\n",
       "      <th></th>\n",
       "      <th>cell_ontology_class</th>\n",
       "    </tr>\n",
       "    <tr>\n",
       "      <th>donor</th>\n",
       "      <th>tissue</th>\n",
       "      <th>cell_ontology_class</th>\n",
       "      <th></th>\n",
       "    </tr>\n",
       "  </thead>\n",
       "  <tbody>\n",
       "    <tr>\n",
       "      <th rowspan=\"5\" valign=\"top\">TSP1</th>\n",
       "      <th rowspan=\"5\" valign=\"top\">Blood</th>\n",
       "      <th>cd4-positive, alpha-beta t cell</th>\n",
       "      <td>94</td>\n",
       "    </tr>\n",
       "    <tr>\n",
       "      <th>cd8-positive, alpha-beta t cell</th>\n",
       "      <td>7</td>\n",
       "    </tr>\n",
       "    <tr>\n",
       "      <th>cd4-positive helper t cell</th>\n",
       "      <td>2</td>\n",
       "    </tr>\n",
       "    <tr>\n",
       "      <th>classical monocyte</th>\n",
       "      <td>2</td>\n",
       "    </tr>\n",
       "    <tr>\n",
       "      <th>memory b cell</th>\n",
       "      <td>2</td>\n",
       "    </tr>\n",
       "    <tr>\n",
       "      <th>...</th>\n",
       "      <th>...</th>\n",
       "      <th>...</th>\n",
       "      <td>...</td>\n",
       "    </tr>\n",
       "    <tr>\n",
       "      <th rowspan=\"2\" valign=\"top\">TSP7</th>\n",
       "      <th rowspan=\"2\" valign=\"top\">Tongue</th>\n",
       "      <th>fibroblast</th>\n",
       "      <td>2</td>\n",
       "    </tr>\n",
       "    <tr>\n",
       "      <th>low quality</th>\n",
       "      <td>1</td>\n",
       "    </tr>\n",
       "    <tr>\n",
       "      <th rowspan=\"2\" valign=\"top\">TSP8</th>\n",
       "      <th rowspan=\"2\" valign=\"top\">Prostate</th>\n",
       "      <th>cd8-positive, alpha-beta t cell</th>\n",
       "      <td>91</td>\n",
       "    </tr>\n",
       "    <tr>\n",
       "      <th>nkt cell</th>\n",
       "      <td>2</td>\n",
       "    </tr>\n",
       "    <tr>\n",
       "      <th>TSP9</th>\n",
       "      <th>Pancreas</th>\n",
       "      <th>t cell</th>\n",
       "      <td>7</td>\n",
       "    </tr>\n",
       "  </tbody>\n",
       "</table>\n",
       "<p>202 rows × 1 columns</p>\n",
       "</div>"
      ],
      "text/plain": [
       "                                                cell_ontology_class\n",
       "donor tissue   cell_ontology_class                                 \n",
       "TSP1  Blood    cd4-positive, alpha-beta t cell                   94\n",
       "               cd8-positive, alpha-beta t cell                    7\n",
       "               cd4-positive helper t cell                         2\n",
       "               classical monocyte                                 2\n",
       "               memory b cell                                      2\n",
       "...                                                             ...\n",
       "TSP7  Tongue   fibroblast                                         2\n",
       "               low quality                                        1\n",
       "TSP8  Prostate cd8-positive, alpha-beta t cell                   91\n",
       "               nkt cell                                           2\n",
       "TSP9  Pancreas t cell                                             7\n",
       "\n",
       "[202 rows x 1 columns]"
      ]
     },
     "execution_count": 53,
     "metadata": {},
     "output_type": "execute_result"
    }
   ],
   "source": [
    "pd.DataFrame(merged.groupby(['donor', \n",
    "                'tissue']).cell_ontology_class.value_counts())"
   ]
  },
  {
   "cell_type": "code",
   "execution_count": 31,
   "id": "a19851b2-bedb-4b59-9177-120c5e54f74a",
   "metadata": {},
   "outputs": [],
   "source": [
    "merged.to_csv('../data/merged_airr.tsv', sep = '\\t', index=False)"
   ]
  },
  {
   "cell_type": "code",
   "execution_count": null,
   "id": "355cd153-fc08-4bcd-bdc3-179c18810c0b",
   "metadata": {},
   "outputs": [],
   "source": []
  }
 ],
 "metadata": {
  "kernelspec": {
   "display_name": "Python 3",
   "language": "python",
   "name": "python3"
  },
  "language_info": {
   "codemirror_mode": {
    "name": "ipython",
    "version": 3
   },
   "file_extension": ".py",
   "mimetype": "text/x-python",
   "name": "python",
   "nbconvert_exporter": "python",
   "pygments_lexer": "ipython3",
   "version": "3.8.10"
  }
 },
 "nbformat": 4,
 "nbformat_minor": 5
}
