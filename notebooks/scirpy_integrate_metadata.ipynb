{
 "cells": [
  {
   "cell_type": "code",
   "execution_count": 42,
   "id": "d80c233a-55d0-477b-a54e-8bb6f1bc10f3",
   "metadata": {},
   "outputs": [],
   "source": [
    "import pandas as pd\n",
    "import scirpy as ir\n",
    "import matplotlib.pyplot as plt\n",
    "import matplotlib as mpl\n",
    "pd.set_option('display.max_colwidth', None)\n",
    "pd.set_option('display.max_rows', 100)\n",
    "pd.set_option('display.max_columns', 20) \n",
    "pd.set_option('display.width', 100)"
   ]
  },
  {
   "cell_type": "markdown",
   "id": "14e54149-2db0-4dfc-ae0f-867236076dc2",
   "metadata": {},
   "source": [
    "# load the data"
   ]
  },
  {
   "cell_type": "code",
   "execution_count": 43,
   "id": "5b8ec67b-3fdb-4ccb-bd2d-daea9ab411d7",
   "metadata": {},
   "outputs": [
    {
     "name": "stderr",
     "output_type": "stream",
     "text": [
      "/home/michaelswift/miniconda3/envs/scirpy/lib/python3.8/site-packages/IPython/core/interactiveshell.py:3169: DtypeWarning: Columns (93,94) have mixed types.Specify dtype option on import or set low_memory=False.\n",
      "  has_raised = await self.run_ast_nodes(code_ast.body, cell_name,\n"
     ]
    }
   ],
   "source": [
    "# output of snakemake currently, goal is to integrate this whole analysis into snakemake\n",
    "airr = pd.read_table('../data/snkmk_outs/combined_igblast.airr.tsv')"
   ]
  },
  {
   "cell_type": "markdown",
   "id": "ee43a03c-a6c6-46ec-9b3e-0875948be488",
   "metadata": {},
   "source": [
    "# filter and munge"
   ]
  },
  {
   "cell_type": "code",
   "execution_count": 44,
   "id": "28b3a176-267c-4343-9392-9e6caac54e09",
   "metadata": {},
   "outputs": [
    {
     "name": "stdout",
     "output_type": "stream",
     "text": [
      "21079 total assemblies out of snakemake\n",
      "21079 removed presumed merging artefacts\n",
      "19269 removed unproductive chains\n",
      "19269 assemblies from TS\n"
     ]
    }
   ],
   "source": [
    "# get rid of merging artefacts\n",
    "print(\"{} total assemblies out of snakemake\".format(airr.shape[0]))\n",
    "airr = airr.dropna(subset=['locus'])\n",
    "print(airr.shape[0], \"removed presumed merging artefacts\")\n",
    "airr = airr[airr.productive == \"T\"]\n",
    "print(airr.shape[0], \"removed unproductive chains\")\n",
    "airr = airr.dropna(subset=['locus'])\n",
    "\n",
    "print(\"{} assemblies from TS\".format(airr.shape[0]))\n",
    "\n",
    "#10X\n",
    "airr.loc[:,\"cell_id\"] = airr.sequence_id.replace('_contig_[0-9]', '', regex=True)\n",
    "airr.cell_id.replace(\"\\-\",\"_\", regex=True, inplace=True)\n",
    "# 10X\n",
    "airr.cell_id.replace(\"_5prime..CR\", '_5prime', regex = True, inplace = True)\n",
    "airr.cell_id.replace('_[0-9]_[T][S]', '_TS',regex = True, inplace = True)\n",
    "airr.cell_id.replace('10X_[0-9]_[0-9]', '10X',regex = True, inplace = True)\n",
    "airr.loc[:, 'cell_id'] = airr.cell_id.str.rsplit(\" \", expand=True)[0]\n",
    "\n",
    "airr.head().cell_id.values[-20:]\n",
    "# Munge the data a little\n",
    "airr.loc[:, 'cell_id'] = airr.cell_id.str.split('|', expand=True)[0]\n",
    "airr = airr.dropna(subset=['junction'])\n",
    "\n",
    "# scirpy needs umi_count column \n",
    "airr['umi_count'] = airr['umis']\n",
    "airr['umi_count'].fillna(5, inplace=True)\n",
    "airr['is_cell'] = True\n",
    "airr['high_confidence'] = True\n",
    "airr['multi_chain'] = False\n",
    "# Want to assign c_calls in the snakemake that's a todo\n",
    "airr['c_call'] = 'None'\n",
    "# umi_count filled with dummy 5, SS2 data wouldn't have this info\n",
    "airr['umi_count'].fillna(5, inplace=True)\n",
    "# rename column\n",
    "airr = airr.rename({'cell_id_x':'cell_id'}, axis=1)\n",
    "airr = airr[['sequence_id', 'sequence', 'rev_comp', 'sequence_alignment', 'germline_alignment', \n",
    "             'v_cigar', 'd_cigar', 'j_cigar', 'cell_id', 'productive', \n",
    "             'locus', 'v_call', 'd_call', 'j_call', 'c_call', 'junction', \n",
    "             'junction_aa', 'umi_count', 'is_cell']]\n"
   ]
  },
  {
   "cell_type": "markdown",
   "id": "a7439599-9523-497a-a7d0-d2196f835421",
   "metadata": {},
   "source": [
    "# SCIRPY"
   ]
  },
  {
   "cell_type": "code",
   "execution_count": 45,
   "id": "24d370bf-0844-4e88-ac4a-aa877b22967e",
   "metadata": {},
   "outputs": [
    {
     "name": "stderr",
     "output_type": "stream",
     "text": [
      "WARNING: Renaming the non-standard `umi_count` column to `duplicate_count`. \n"
     ]
    }
   ],
   "source": [
    "airr.to_csv('airr_formatted.tsv', sep = '\\t')\n",
    "adata = ir.io.read_airr('airr_formatted.tsv')"
   ]
  },
  {
   "cell_type": "code",
   "execution_count": 46,
   "id": "ec39275f-353a-4830-8911-5c32fe8b55ce",
   "metadata": {},
   "outputs": [],
   "source": [
    "ir.tl.chain_qc(adata)"
   ]
  },
  {
   "cell_type": "code",
   "execution_count": 47,
   "id": "c375384e-8f68-4cc5-902e-5ef8b33dcf0f",
   "metadata": {},
   "outputs": [
    {
     "name": "stderr",
     "output_type": "stream",
     "text": [
      "... storing 'receptor_type' as categorical\n",
      "... storing 'receptor_subtype' as categorical\n",
      "... storing 'chain_pairing' as categorical\n"
     ]
    },
    {
     "name": "stdout",
     "output_type": "stream",
     "text": [
      "single pair        4093\n",
      "orphan VJ          1983\n",
      "orphan VDJ         1712\n",
      "two full chains     932\n",
      "extra VJ            339\n",
      "multichain          163\n",
      "ambiguous           128\n",
      "extra VDJ            74\n",
      "Name: chain_pairing, dtype: int64\n"
     ]
    },
    {
     "data": {
      "text/plain": [
       "<Figure size 432x288 with 0 Axes>"
      ]
     },
     "metadata": {},
     "output_type": "display_data"
    },
    {
     "data": {
      "image/png": "[encoded data removed]",
      "text/plain": [
       "<Figure size 412.8x309.6 with 1 Axes>"
      ]
     },
     "metadata": {
      "needs_background": "light"
     },
     "output_type": "display_data"
    }
   ],
   "source": [
    "print(adata.obs.chain_pairing.value_counts())\n",
    "fig = plt.figure()\n",
    "ax = ir.pl.group_abundance(adata, groupby='receptor_subtype')\n"
   ]
  },
  {
   "cell_type": "code",
   "execution_count": 48,
   "id": "8c5ab3ea-9c8e-4b23-9544-fca50af1dede",
   "metadata": {},
   "outputs": [
    {
     "name": "stderr",
     "output_type": "stream",
     "text": [
      "/home/michaelswift/miniconda3/envs/scirpy/lib/python3.8/site-packages/IPython/core/interactiveshell.py:3169: DtypeWarning: Columns (10,14,15,16,17,18) have mixed types.Specify dtype option on import or set low_memory=False.\n",
      "  has_raised = await self.run_ast_nodes(code_ast.body, cell_name,\n"
     ]
    }
   ],
   "source": [
    "# metadata from h5ad\n",
    "met = pd.read_csv('../data/TSP1_TSP15_metadata.csv')\n",
    "met[(met.donor == \"TSP1\") & (met.method == 'smartseq2')].cell_id.str.rsplit(\".\", n = 5, expand = True)[0]\n",
    "met['_cell_id'] = met['cell_id']\n",
    "met['_cell_id'] = met['_cell_id'].str.replace('_[0-2]_[0-2]_5prime', '_5prime', regex = True)\n",
    "met['_cell_id'] = met['_cell_id'].str.replace('.homo.gencode.v30.ERCC.chrM', '', regex = True)"
   ]
  },
  {
   "cell_type": "code",
   "execution_count": 49,
   "id": "966e9f8f-c4f3-4f15-9ed0-e74fb996966a",
   "metadata": {},
   "outputs": [
    {
     "name": "stderr",
     "output_type": "stream",
     "text": [
      "/home/michaelswift/miniconda3/envs/scirpy/lib/python3.8/site-packages/anndata/_core/anndata.py:794: UserWarning: \n",
      "AnnData expects .obs.index to contain strings, but got values like:\n",
      "    [143757, 144258, 144244, 143761, 144159]\n",
      "\n",
      "    Inferred to be: integer\n",
      "\n",
      "  value_idx = self._prep_dim_index(value.index, attr)\n"
     ]
    }
   ],
   "source": [
    "merged = pd.merge(adata.obs, met, how = 'inner', left_on='cell_id', right_on='_cell_id')\n",
    "\n",
    "adata = adata[adata.obs.index.isin(merged.cell_id)]\n",
    "\n",
    "adata.obs = pd.merge(adata.obs, met, how = 'inner', left_index=True, right_on='cell_id')\n",
    "\n",
    "adata.obs.index = adata.obs.cell_id"
   ]
  },
  {
   "cell_type": "markdown",
   "id": "cc43e96c-a53f-4826-adfe-cfb645f6bc87",
   "metadata": {},
   "source": [
    "adata.obs.index.name = None\n",
    "adata.obs['10X_run'].fillna(\"SS2\", inplace=True)\n",
    "\n",
    "adata.write_h5ad('../data/merged_airr_scirpy.h5ad')"
   ]
  },
  {
   "cell_type": "code",
   "execution_count": 50,
   "id": "7cc2b276-f74e-4d75-960c-a7c51129ccc9",
   "metadata": {},
   "outputs": [
    {
     "name": "stderr",
     "output_type": "stream",
     "text": [
      "100%|██████████| 1326/1326 [00:06<00:00, 197.82it/s]\n",
      "100%|██████████| 1431/1431 [00:07<00:00, 189.89it/s]\n"
     ]
    }
   ],
   "source": [
    "ir.pp.ir_dist(adata, metric=\"alignment\", sequence='aa', cutoff=25)"
   ]
  },
  {
   "cell_type": "code",
   "execution_count": 51,
   "id": "d96c7c2b-0107-4c02-8565-699eab2e4d2d",
   "metadata": {},
   "outputs": [
    {
     "name": "stderr",
     "output_type": "stream",
     "text": [
      "100%|██████████| 3587/3587 [00:10<00:00, 327.07it/s]\n"
     ]
    }
   ],
   "source": [
    "ir.tl.define_clonotypes(adata, key_added='clone_id')"
   ]
  },
  {
   "cell_type": "code",
   "execution_count": 52,
   "id": "6735d34b-160a-4e79-bbff-ae02bc6bf021",
   "metadata": {},
   "outputs": [],
   "source": [
    "adata.obs.to_csv('../data/merged_airr_scirpy.tsv', sep = '\\t', index=False)"
   ]
  },
  {
   "cell_type": "code",
   "execution_count": 20,
   "id": "f8e54d76-317c-460f-a302-988037e9d6db",
   "metadata": {},
   "outputs": [],
   "source": [
    "ax = ir.pl.group_abundance(adata, groupby='receptor_subtype', target_col='tissue')\n",
    "\n",
    "ax = ir.pl.group_abundance(adata, groupby='receptor_subtype', target_col='donor')\n",
    "\n",
    "\n",
    "ax = ir.pl.group_abundance(adata, groupby='clone_id', target_col='cell_ontology_class', max_cols=10)\n",
    "\n",
    "ax = ir.pl.vdj_usage(adata, full_combination=False, max_segments=None, max_ribbons=30)\n",
    "\n",
    "ir.pl.vdj_usage(\n",
    "    adata[adata.obs[\"clone_id\"].isin([\"546\", \"556\", '626']), :],\n",
    "    max_ribbons=None,\n",
    "    max_segments=100,\n",
    ")"
   ]
  }
 ],
 "metadata": {
  "kernelspec": {
   "display_name": "Python 3",
   "language": "python",
   "name": "python3"
  },
  "language_info": {
   "codemirror_mode": {
    "name": "ipython",
    "version": 3
   },
   "file_extension": ".py",
   "mimetype": "text/x-python",
   "name": "python",
   "nbconvert_exporter": "python",
   "pygments_lexer": "ipython3",
   "version": "3.8.10"
  }
 },
 "nbformat": 4,
 "nbformat_minor": 5
}
