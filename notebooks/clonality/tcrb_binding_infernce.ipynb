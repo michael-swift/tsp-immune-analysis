{
 "cells": [
  {
   "cell_type": "code",
   "execution_count": 5,
   "id": "b54c97ca-6ed5-4e5a-9f32-ca742a43e02a",
   "metadata": {},
   "outputs": [],
   "source": [
    "import pandas as pd"
   ]
  },
  {
   "cell_type": "markdown",
   "id": "b41720a4-a58a-42b1-92ea-e1a996f4959b",
   "metadata": {},
   "source": [
    "- Process:\n",
    "    - I downloaded a curated database of TCR / epitope pairings. The evidence supporting the large majority of the pairings is dextramer, tetramer, or multimer sorting and then sequencing. Often this is single-cell data\n",
    "    - I cross-referenced the database with the Tabula Sapiens database of TCRs that I created\n",
    "- Topline Inferred Peptide Data:\n",
    "\n",
    "    - When I do this I end up with 34 TCR Betas with exact matches in the database of TCR / epitope pairings, this order 1/100 of the TCRBs in Tabula Sapiens currently\n",
    "    \n",
    "    - EBV           12 peptides\n",
    "    - CMV            14 peptides\n",
    "    - InfluenzaA     8 peptides\n",
    "    \n",
    "- Cell Ontology:\n",
    "    - There doesn't appear to be enrichment for a specific cell ontology class in these T cells which bind these viruses\n",
    "    \n",
    "- Tissue"
   ]
  },
  {
   "cell_type": "code",
   "execution_count": 7,
   "id": "79f4ef09-187c-4842-a825-5e96ff58f934",
   "metadata": {},
   "outputs": [
    {
     "name": "stdout",
     "output_type": "stream",
     "text": [
      "1072 exact CDR3 matches in VDJdb\n"
     ]
    }
   ],
   "source": [
    "# load VDJdb curated database of TCR / epitope pairings\n",
    "#https://vdjdb.cdr3.net/search\n",
    "tcr_db = pd.read_table('../../metadata/vdjdb.tsv')\n",
    "# load summary table from Tabula Sapiens\n",
    "ts_tcrs = pd.read_table('../../data/processed_data/merged_airr_scirpy2.tsv')\n",
    "\n",
    "# subset to TCR\n",
    "ts_tcrs = ts_tcrs[ts_tcrs.receptor_type == 'TCR']\n",
    "\n",
    "# exact cdr3 matches\n",
    "cdr3_hits = pd.merge(tcr_db, ts_tcrs, left_on='CDR3', right_on=\"IR_VDJ_1_junction_aa\")\n",
    "\n",
    "print(cdr3_hits.shape[0], \"exact CDR3 matches in VDJdb\")\n",
    "\n",
    "#create table of exact tcrB matches from TS into VDJdb\n",
    "tcrb_hits = cdr3_hits[(cdr3_hits['V'] == cdr3_hits['IR_VDJ_1_v_call']) & (cdr3_hits['J'] == cdr3_hits['IR_VDJ_1_j_call'])]\n",
    "# drop duplicates\n",
    "\n",
    "tcrb_hits = tcrb_hits.drop_duplicates(subset = 'cell_identifier', keep='last')"
   ]
  },
  {
   "cell_type": "code",
   "execution_count": 11,
   "id": "dc947e9c-6053-4ddb-963c-f1244a0fbcea",
   "metadata": {},
   "outputs": [
    {
     "data": {
      "text/plain": [
       "smartseq2    3850\n",
       "10X           897\n",
       "Name: method, dtype: int64"
      ]
     },
     "execution_count": 11,
     "metadata": {},
     "output_type": "execute_result"
    }
   ],
   "source": [
    "ts_tcrs.method.value_counts()"
   ]
  },
  {
   "cell_type": "code",
   "execution_count": 4,
   "id": "9245fefa-9562-4901-af7c-c2c4da492bd6",
   "metadata": {},
   "outputs": [
    {
     "data": {
      "text/plain": [
       "TSP2     2487\n",
       "TSP7     1169\n",
       "TSP4      263\n",
       "TSP10     229\n",
       "TSP11     204\n",
       "TSP1      185\n",
       "TSP13      70\n",
       "TSP8       69\n",
       "TSP3       32\n",
       "TSP5       29\n",
       "TSP9        5\n",
       "TSP6        5\n",
       "Name: donor, dtype: int64"
      ]
     },
     "execution_count": 4,
     "metadata": {},
     "output_type": "execute_result"
    }
   ],
   "source": [
    "ts_tcrs.donor.value_counts()"
   ]
  },
  {
   "cell_type": "markdown",
   "id": "54ff4472-31a2-4429-b289-b341f632b0f7",
   "metadata": {},
   "source": [
    "## How many exact matching TCRB sequences are both Tabula Sapiens and the VDJdb?"
   ]
  },
  {
   "cell_type": "code",
   "execution_count": 115,
   "id": "61c7b313-e9c3-42e7-a2bb-7db0f2388801",
   "metadata": {},
   "outputs": [
    {
     "name": "stdout",
     "output_type": "stream",
     "text": [
      "exact TCRB matches from TS found in VDJdb:   34\n",
      "TS cdr3 database size:   3909\n",
      "VDJdb database size:   73433\n"
     ]
    }
   ],
   "source": [
    "print(\"exact TCRB matches from TS found in VDJdb:  \", tcrb_hits.shape[0] )\n",
    "print(\"TS cdr3 database size:  \", ts_tcrs.IR_VDJ_1_junction_aa.dropna().shape[0])\n",
    "print(\"VDJdb database size:  \", tcr_db.shape[0])"
   ]
  },
  {
   "cell_type": "markdown",
   "id": "c5eb69e6-d018-44db-88a8-ec9197fb54e0",
   "metadata": {},
   "source": [
    "## What organism are these inferred binding interactions from? "
   ]
  },
  {
   "cell_type": "code",
   "execution_count": 116,
   "id": "51523321-47dd-4622-a8af-fb6dfa847b63",
   "metadata": {},
   "outputs": [
    {
     "data": {
      "text/plain": [
       "CMV           14\n",
       "EBV           12\n",
       "InfluenzaA     8\n",
       "Name: Epitope species, dtype: int64"
      ]
     },
     "execution_count": 116,
     "metadata": {},
     "output_type": "execute_result"
    }
   ],
   "source": [
    "tcrb_hits['Epitope species'].value_counts()"
   ]
  },
  {
   "cell_type": "markdown",
   "id": "1454f63a-e8a9-42b3-a8bb-2489825cf6ea",
   "metadata": {},
   "source": [
    "## What are the peptides?"
   ]
  },
  {
   "cell_type": "code",
   "execution_count": 117,
   "id": "1c3de2ea-c06c-4793-b569-0abaadc895e4",
   "metadata": {},
   "outputs": [
    {
     "data": {
      "text/plain": [
       "GILGFVFTL         6\n",
       "KLGGALQAK         6\n",
       "NLVPMVATV         5\n",
       "FLRGRAYGL         4\n",
       "GLCTLVAML         4\n",
       "NEGVKAAW          3\n",
       "RAKFKQLL          3\n",
       "GLIYNRMGAVTTEV    2\n",
       "AVFDRKSDAK        1\n",
       "Name: Epitope, dtype: int64"
      ]
     },
     "execution_count": 117,
     "metadata": {},
     "output_type": "execute_result"
    }
   ],
   "source": [
    "tcrb_hits['Epitope'].value_counts()"
   ]
  },
  {
   "cell_type": "markdown",
   "id": "c3bde433-5293-4d16-84ff-c985c39e610b",
   "metadata": {},
   "source": [
    "GILGFVFTL is a well studied epitope known to be immunodominant for the flu Matrix protein: \n",
    "\n",
    "https://www.ncbi.nlm.nih.gov/pmc/articles/PMC4178881/\n",
    "\n",
    "RAKFKQLL is a well studied epitope known to show positive T cells in EBV seropositive individuals"
   ]
  },
  {
   "cell_type": "markdown",
   "id": "4d9b8a3e-8efe-4f59-bb93-d26ba7937ae2",
   "metadata": {},
   "source": [
    "# What genes are being targeted by these TCRBs?"
   ]
  },
  {
   "cell_type": "code",
   "execution_count": 118,
   "id": "46a735fa-89f3-47ce-9c20-c9b2164d5e62",
   "metadata": {},
   "outputs": [
    {
     "data": {
      "text/plain": [
       "Epitope species  Epitope gene\n",
       "CMV              IE1             6\n",
       "                 pp65            5\n",
       "                 IE2             3\n",
       "EBV              BMLF1           4\n",
       "                 EBNA3A          4\n",
       "                 BZLF1           3\n",
       "                 EBNA4           1\n",
       "InfluenzaA       M               6\n",
       "                 M1              2\n",
       "Name: Epitope gene, dtype: int64"
      ]
     },
     "execution_count": 118,
     "metadata": {},
     "output_type": "execute_result"
    }
   ],
   "source": [
    "tcrb_hits.groupby('Epitope species')['Epitope gene'].value_counts()"
   ]
  },
  {
   "cell_type": "markdown",
   "id": "04e01370-3c29-412e-aa28-68882feb742a",
   "metadata": {},
   "source": [
    "Here is a wholistic looks at the species which bind and their epitopes"
   ]
  },
  {
   "cell_type": "markdown",
   "id": "c30447d0-b9de-4da3-a7a8-b3dd837a181b",
   "metadata": {},
   "source": [
    "# What Donors are represented and for what peptides"
   ]
  },
  {
   "cell_type": "code",
   "execution_count": 119,
   "id": "0b20fefa-5365-482a-9678-7f7f9f181666",
   "metadata": {},
   "outputs": [
    {
     "data": {
      "text/plain": [
       "donor  Epitope species  tissue        \n",
       "TSP1   CMV              Muscle            3\n",
       "                        Lung              2\n",
       "       InfluenzaA       Muscle            2\n",
       "TSP2   CMV              Muscle            3\n",
       "                        Skin              1\n",
       "                        Spleen            1\n",
       "                        Thymus            1\n",
       "       EBV              Bone_Marrow       3\n",
       "                        Blood             2\n",
       "                        Muscle            2\n",
       "                        Kidney            1\n",
       "                        Lymph_Node        1\n",
       "                        Spleen            1\n",
       "       InfluenzaA       Blood             1\n",
       "                        Lymph_Node        1\n",
       "                        Skin              1\n",
       "TSP5   CMV              Eye               1\n",
       "TSP7   CMV              Spleen            1\n",
       "                        Tongue            1\n",
       "       EBV              Tongue            2\n",
       "       InfluenzaA       Salivary_Gland    1\n",
       "                        Spleen            1\n",
       "TSP8   InfluenzaA       Prostate          1\n",
       "Name: tissue, dtype: int64"
      ]
     },
     "execution_count": 119,
     "metadata": {},
     "output_type": "execute_result"
    }
   ],
   "source": [
    "tcrb_hits.groupby(['donor', 'Epitope species']).tissue.value_counts()"
   ]
  },
  {
   "cell_type": "markdown",
   "id": "63d0606f-adf5-4b12-9e64-2d023b8b29ae",
   "metadata": {},
   "source": [
    "# What are the clone sizes of these T cells?"
   ]
  },
  {
   "cell_type": "code",
   "execution_count": 120,
   "id": "ca42edc7-e625-4ab7-bbf0-041f97ab6a0d",
   "metadata": {},
   "outputs": [
    {
     "data": {
      "text/plain": [
       "<AxesSubplot:>"
      ]
     },
     "execution_count": 120,
     "metadata": {},
     "output_type": "execute_result"
    },
    {
     "data": {
      "image/png": "[encoded data removed]",
      "text/plain": [
       "<Figure size 432x288 with 1 Axes>"
      ]
     },
     "metadata": {
      "needs_background": "light"
     },
     "output_type": "display_data"
    }
   ],
   "source": [
    "tcrb_hits.clone_id_size.hist()"
   ]
  },
  {
   "cell_type": "markdown",
   "id": "8d632eed-6eb0-43e4-8213-f6e3fb7a3029",
   "metadata": {},
   "source": [
    "# Are any of the t cells which are viral hits, the large clones we present in the figures?"
   ]
  },
  {
   "cell_type": "code",
   "execution_count": 121,
   "id": "bb8e1189-dcad-492b-be10-cd495d09dc1f",
   "metadata": {},
   "outputs": [
    {
     "data": {
      "text/plain": [
       "Series([], Name: tissue, dtype: object)"
      ]
     },
     "execution_count": 121,
     "metadata": {},
     "output_type": "execute_result"
    }
   ],
   "source": [
    "\n",
    "tcrb_hits[tcrb_hits.clone_id.isin(ts_tcrs[ts_tcrs.clone_id_size > 5].clone_id)].tissue"
   ]
  },
  {
   "cell_type": "markdown",
   "id": "d0120e57-d176-47e6-b197-4fa6bf0d0b2e",
   "metadata": {},
   "source": [
    "nope"
   ]
  },
  {
   "cell_type": "markdown",
   "id": "f3464902-dad0-421d-8f5f-8badef596a70",
   "metadata": {},
   "source": [
    "## Is There anything to say about clone, virus, and tissue?"
   ]
  },
  {
   "cell_type": "code",
   "execution_count": 122,
   "id": "66b4ce5f-00f2-4f1f-8460-4b84557861d5",
   "metadata": {},
   "outputs": [
    {
     "data": {
      "text/plain": [
       "Epitope species  clone_id  tissue        \n",
       "CMV              969       Thymus            1\n",
       "                 2527      Muscle            2\n",
       "                           Lung              1\n",
       "                 2612      Lung              1\n",
       "                           Muscle            1\n",
       "                 2677      Eye               1\n",
       "                 2789      Tongue            1\n",
       "                 3686      Spleen            1\n",
       "                 4366      Skin              1\n",
       "                 4419      Muscle            3\n",
       "                 4740      Spleen            1\n",
       "EBV              3070      Tongue            1\n",
       "                 3083      Tongue            1\n",
       "                 4251      Muscle            1\n",
       "                           Spleen            1\n",
       "                 4254      Blood             2\n",
       "                 4517      Bone_Marrow       1\n",
       "                 4532      Bone_Marrow       1\n",
       "                 4892      Kidney            1\n",
       "                           Muscle            1\n",
       "                 5122      Bone_Marrow       1\n",
       "                 5188      Lymph_Node        1\n",
       "InfluenzaA       263       Blood             1\n",
       "                 2576      Muscle            1\n",
       "                 2641      Muscle            1\n",
       "                 3035      Spleen            1\n",
       "                 3492      Salivary_Gland    1\n",
       "                 4793      Lymph_Node        1\n",
       "                 5107      Skin              1\n",
       "                 5571      Prostate          1\n",
       "Name: tissue, dtype: int64"
      ]
     },
     "execution_count": 122,
     "metadata": {},
     "output_type": "execute_result"
    }
   ],
   "source": [
    "tcrb_hits.groupby(['Epitope species', 'clone_id']).tissue.value_counts()"
   ]
  },
  {
   "cell_type": "markdown",
   "id": "09759cec-09e1-458d-8ca9-ab35e1c62bc1",
   "metadata": {},
   "source": [
    "## What is the makeup of the VDJdb TCRB to epitope pairings? "
   ]
  },
  {
   "cell_type": "code",
   "execution_count": 123,
   "id": "516ab251-f4e7-4539-9eb5-3226c01920b2",
   "metadata": {},
   "outputs": [
    {
     "data": {
      "text/plain": [
       "CMV                          34614\n",
       "InfluenzaA                   11519\n",
       "EBV                          10855\n",
       "HomoSapiens                   4305\n",
       "SARS-CoV-2                    2834\n",
       "HIV-1                         2756\n",
       "SIV                           1982\n",
       "MCMV                          1435\n",
       "HCV                            827\n",
       "YFV                            697\n",
       "HTLV-1                         229\n",
       "DENV1                          177\n",
       "DENV3/4                        174\n",
       "PlasmodiumBerghei              170\n",
       "HSV-2                          152\n",
       "LCMV                           137\n",
       "RSV                            125\n",
       "synthetic                       92\n",
       "DENV2                           60\n",
       "M.tuberculosis                  56\n",
       "VSV                             54\n",
       "TriticumAestivum                51\n",
       "MusMusculus                     50\n",
       "HPV                             28\n",
       "GallusGallus                    16\n",
       "MCPyV                           10\n",
       "StreptomycesKanamyceticus        6\n",
       "E.Coli                           4\n",
       "ManducaSexta                     4\n",
       "Synthetic                        4\n",
       "PseudomonasAeruginosa            2\n",
       "PseudomonasFluorescens           2\n",
       "SelaginellaMoellendorffii        2\n",
       "SaccharomycesCerevisiae          2\n",
       "HHV                              2\n",
       "Name: Epitope species, dtype: int64"
      ]
     },
     "execution_count": 123,
     "metadata": {},
     "output_type": "execute_result"
    }
   ],
   "source": [
    "tcr_db['Epitope species'].value_counts()"
   ]
  },
  {
   "cell_type": "markdown",
   "id": "7bf2c994-cb9f-4f44-b96f-9997d320d1bf",
   "metadata": {},
   "source": [
    "## What are the annotated cell types of these tcrb_hits"
   ]
  },
  {
   "cell_type": "code",
   "execution_count": 124,
   "id": "7c007dce-368e-40c7-888e-599e0a2a2e0f",
   "metadata": {},
   "outputs": [
    {
     "data": {
      "text/plain": [
       "cd8-positive, alpha-beta t cell                         12\n",
       "cd4-positive, alpha-beta t cell                          5\n",
       "cd8-positive, alpha-beta memory t cell                   4\n",
       "immune cell                                              3\n",
       "mature nk t cell                                         2\n",
       "cd4-positive helper t cell                               2\n",
       "t cell                                                   2\n",
       "macrophage                                               1\n",
       "cd4-positive, alpha-beta memory t cell                   1\n",
       "thymocyte                                                1\n",
       "naive thymus-derived cd4-positive, alpha-beta t cell     1\n",
       "Name: cell_ontology_class, dtype: int64"
      ]
     },
     "execution_count": 124,
     "metadata": {},
     "output_type": "execute_result"
    }
   ],
   "source": [
    "tcrb_hits.cell_ontology_class.value_counts()"
   ]
  },
  {
   "cell_type": "markdown",
   "id": "d4cb4592-e19f-4617-9053-f8b2433f8224",
   "metadata": {},
   "source": [
    "### All tcrs in TS to calibrate expected values"
   ]
  },
  {
   "cell_type": "code",
   "execution_count": 125,
   "id": "91203665-a7ed-4514-b278-770d7bc106ad",
   "metadata": {},
   "outputs": [
    {
     "data": {
      "text/plain": [
       "cd4-positive, alpha-beta t cell                                991\n",
       "cd8-positive, alpha-beta t cell                                785\n",
       "thymocyte                                                      482\n",
       "t cell                                                         419\n",
       "cd4-positive, alpha-beta memory t cell                         316\n",
       "cd4-positive helper t cell                                     307\n",
       "naive thymus-derived cd4-positive, alpha-beta t cell           305\n",
       "cd8-positive, alpha-beta memory t cell                         287\n",
       "innate lymphoid cell                                           209\n",
       "immune cell                                                    166\n",
       "cd4-positive alpha-beta t cell                                 101\n",
       "regulatory t cell                                               54\n",
       "cd8-positive alpha-beta t cell                                  47\n",
       "nk cell                                                         42\n",
       "mature nk t cell                                                39\n",
       "leucocyte                                                       34\n",
       "naive thymus-derived cd8-positive, alpha-beta t cell            31\n",
       "macrophage                                                      31\n",
       "memory b cell                                                   11\n",
       "basal cell                                                       9\n",
       "cd8-positive, alpha-beta cytokine secreting effector t cell      9\n",
       "b cell                                                           8\n",
       "type i nk t cell                                                 7\n",
       "dendritic cell                                                   7\n",
       "plasma cell                                                      7\n",
       "mesenchymal stem cell                                            4\n",
       "mast cell                                                        4\n",
       "naive b cell                                                     4\n",
       "capillary endothelial cell                                       3\n",
       "classical monocyte                                               3\n",
       "cd4-positive helper t cells                                      3\n",
       "nkt cell                                                         2\n",
       "myofibroblast cell                                               2\n",
       "pericyte cell                                                    2\n",
       "fibroblast                                                       2\n",
       "cd8-positive, alpha-beta cytotoxic t cell                        2\n",
       "mature enterocyte                                                1\n",
       "endothelial cell                                                 1\n",
       "melanocyte                                                       1\n",
       "myeloid progenitor                                               1\n",
       "doublet                                                          1\n",
       "monocyte                                                         1\n",
       "endothelial cell of vascular tree                                1\n",
       "hematopoietic stem cell                                          1\n",
       "skeletal muscle satellite stem cell                              1\n",
       "low quality                                                      1\n",
       "alveolar fibroblast                                              1\n",
       "stromal cell                                                     1\n",
       "Name: cell_ontology_class, dtype: int64"
      ]
     },
     "execution_count": 125,
     "metadata": {},
     "output_type": "execute_result"
    }
   ],
   "source": [
    "\n",
    "ts_tcrs.cell_ontology_class.value_counts()"
   ]
  },
  {
   "cell_type": "markdown",
   "id": "d6bef9c7-8d8a-4513-8af9-67f3d050f75d",
   "metadata": {},
   "source": [
    "## Chi square test"
   ]
  },
  {
   "cell_type": "code",
   "execution_count": 126,
   "id": "05b16486-a882-4993-9627-2f4f9dc2d3fb",
   "metadata": {},
   "outputs": [],
   "source": [
    "import numpy as np"
   ]
  },
  {
   "cell_type": "code",
   "execution_count": 127,
   "id": "7cdc68f2-f553-4997-85cf-6bf39b1460e6",
   "metadata": {},
   "outputs": [],
   "source": [
    "# calculate observed frequencies\n",
    "f_obs = tcrb_hits.cell_ontology_class.value_counts(normalize=True)"
   ]
  },
  {
   "cell_type": "code",
   "execution_count": 128,
   "id": "e4b69018-7bdd-4816-abcf-6e2cf201ad60",
   "metadata": {},
   "outputs": [],
   "source": [
    "# calculated expected frequencies\n",
    "f_exp = ts_tcrs.cell_ontology_class.value_counts(normalize=True)"
   ]
  },
  {
   "cell_type": "code",
   "execution_count": 129,
   "id": "c759331b-7ec9-4301-9ab3-0500cd4965b4",
   "metadata": {},
   "outputs": [],
   "source": [
    "# put 0 frequencies in to cell ontologies that aren't seen in the hits but are observed in the TS tcr database\n",
    "N = f_exp.shape[0] - f_obs.shape[0]\n",
    "f_obs = np.pad(f_obs.values, (0,N), 'constant')"
   ]
  },
  {
   "cell_type": "code",
   "execution_count": 130,
   "id": "fd01f7a6-f43e-41f4-ae0c-8ac5bf4a5a84",
   "metadata": {},
   "outputs": [],
   "source": [
    "import scipy.stats as stats"
   ]
  },
  {
   "cell_type": "code",
   "execution_count": 131,
   "id": "e06b67e7-7c15-407f-b25b-91dad5760746",
   "metadata": {},
   "outputs": [
    {
     "data": {
      "text/plain": [
       "Power_divergenceResult(statistic=0.21067402579732886, pvalue=1.0)"
      ]
     },
     "execution_count": 131,
     "metadata": {},
     "output_type": "execute_result"
    }
   ],
   "source": [
    "stats.chisquare(f_obs, f_exp)"
   ]
  },
  {
   "cell_type": "markdown",
   "id": "b03b6a24-627a-4943-9fdb-501ceb2f8f89",
   "metadata": {},
   "source": [
    "It's possible there is a signal here, where the hits in VDJdb are more likely to be CD8-positive, alpha-beta t cells than random. It seems like an odd claim to make given the annotations are so weird right, which violates some of the Chisquared assumptions as well as adds a bunch of df. I think a different statistical test could be done here to ask whether the viral binders are enriched for CD8-positive t cells (or any other type) but given the resounding \"no\" from chi-squared I'm not hopeful"
   ]
  },
  {
   "cell_type": "code",
   "execution_count": 132,
   "id": "1fced29f-7494-4db2-9e93-1d8ef58a7a86",
   "metadata": {},
   "outputs": [],
   "source": [
    "ts_tcrs = ts_tcrs[ts_tcrs.cell_ontology_class.isin(tcrb_hits.cell_ontology_class)]"
   ]
  },
  {
   "cell_type": "code",
   "execution_count": 133,
   "id": "b6cb659c-5d48-4ee6-a35f-dd9dc30a5f1d",
   "metadata": {},
   "outputs": [],
   "source": [
    "f_obs = tcrb_hits.cell_ontology_class.value_counts(normalize=True)\n",
    "f_exp = ts_tcrs.cell_ontology_class.value_counts(normalize=True)"
   ]
  },
  {
   "cell_type": "code",
   "execution_count": 134,
   "id": "129dc637-98c0-4665-8922-3597a457c60c",
   "metadata": {},
   "outputs": [
    {
     "data": {
      "text/plain": [
       "cd8-positive, alpha-beta t cell                         0.352941\n",
       "cd4-positive, alpha-beta t cell                         0.147059\n",
       "cd8-positive, alpha-beta memory t cell                  0.117647\n",
       "immune cell                                             0.088235\n",
       "mature nk t cell                                        0.058824\n",
       "cd4-positive helper t cell                              0.058824\n",
       "t cell                                                  0.058824\n",
       "macrophage                                              0.029412\n",
       "cd4-positive, alpha-beta memory t cell                  0.029412\n",
       "thymocyte                                               0.029412\n",
       "naive thymus-derived cd4-positive, alpha-beta t cell    0.029412\n",
       "Name: cell_ontology_class, dtype: float64"
      ]
     },
     "execution_count": 134,
     "metadata": {},
     "output_type": "execute_result"
    }
   ],
   "source": [
    "f_obs"
   ]
  },
  {
   "cell_type": "code",
   "execution_count": 135,
   "id": "e5c56a0e-6548-4d30-866b-4642f23ca31c",
   "metadata": {},
   "outputs": [
    {
     "data": {
      "text/plain": [
       "Power_divergenceResult(statistic=0.2071166270693902, pvalue=0.9999999089434757)"
      ]
     },
     "execution_count": 135,
     "metadata": {},
     "output_type": "execute_result"
    }
   ],
   "source": [
    "stats.chisquare(f_obs, f_exp)"
   ]
  },
  {
   "cell_type": "markdown",
   "id": "0f5efb08-d8ae-4cca-8d5b-0652387682e8",
   "metadata": {},
   "source": [
    "# are certain donors / tissues more or less likely to show up in this database? "
   ]
  },
  {
   "cell_type": "code",
   "execution_count": 136,
   "id": "cd3b04e9-3a5a-4c9b-ab12-0b66f4207b9c",
   "metadata": {},
   "outputs": [
    {
     "data": {
      "text/plain": [
       "Blood             688\n",
       "Thymus            590\n",
       "Bone_Marrow       589\n",
       "Lymph_Node        502\n",
       "Muscle            367\n",
       "Spleen            350\n",
       "Salivary_Gland    242\n",
       "Tongue            166\n",
       "Skin              164\n",
       "Fat               101\n",
       "Mammary            86\n",
       "Kidney             70\n",
       "Prostate           68\n",
       "Eye                55\n",
       "Uterus             38\n",
       "Lung               26\n",
       "Vasculature        13\n",
       "Pancreas            5\n",
       "Liver               4\n",
       "Bladder             3\n",
       "Trachea             1\n",
       "Name: tissue, dtype: int64"
      ]
     },
     "execution_count": 136,
     "metadata": {},
     "output_type": "execute_result"
    }
   ],
   "source": [
    "# number of tcrs is TS\n",
    "ts_tcrs.tissue.value_counts()"
   ]
  },
  {
   "cell_type": "code",
   "execution_count": 137,
   "id": "22792c76-8b9b-4b0a-9027-53f74784eb00",
   "metadata": {},
   "outputs": [
    {
     "data": {
      "text/plain": [
       "TSP2     2413\n",
       "TSP7      749\n",
       "TSP4      253\n",
       "TSP11     201\n",
       "TSP1      165\n",
       "TSP10     147\n",
       "TSP8       68\n",
       "TSP13      67\n",
       "TSP3       28\n",
       "TSP5       27\n",
       "TSP9        5\n",
       "TSP6        5\n",
       "Name: donor, dtype: int64"
      ]
     },
     "execution_count": 137,
     "metadata": {},
     "output_type": "execute_result"
    }
   ],
   "source": [
    "# number of tcrs by donor\n",
    "ts_tcrs.donor.value_counts()"
   ]
  },
  {
   "cell_type": "code",
   "execution_count": 138,
   "id": "c98870ac-50e3-4cbf-80bc-d619fd95d3b5",
   "metadata": {},
   "outputs": [
    {
     "data": {
      "text/plain": [
       "TSP2    19\n",
       "TSP1     7\n",
       "TSP7     6\n",
       "TSP8     1\n",
       "TSP5     1\n",
       "Name: donor, dtype: int64"
      ]
     },
     "execution_count": 138,
     "metadata": {},
     "output_type": "execute_result"
    }
   ],
   "source": [
    "# number of hits by donor\n",
    "tcrb_hits.donor.value_counts()"
   ]
  },
  {
   "cell_type": "code",
   "execution_count": 139,
   "id": "78a40d20-d7c8-4c4d-b64e-3baaed1ba2e4",
   "metadata": {},
   "outputs": [
    {
     "data": {
      "text/plain": [
       "Muscle            10\n",
       "Spleen             4\n",
       "Blood              3\n",
       "Tongue             3\n",
       "Bone_Marrow        3\n",
       "Lung               2\n",
       "Lymph_Node         2\n",
       "Skin               2\n",
       "Prostate           1\n",
       "Thymus             1\n",
       "Kidney             1\n",
       "Eye                1\n",
       "Salivary_Gland     1\n",
       "Name: tissue, dtype: int64"
      ]
     },
     "execution_count": 139,
     "metadata": {},
     "output_type": "execute_result"
    }
   ],
   "source": [
    "tcrb_hits.tissue.value_counts()"
   ]
  },
  {
   "cell_type": "markdown",
   "id": "ae85b063-ab5d-47cb-916a-bd897fa95d1f",
   "metadata": {},
   "source": [
    "# what level of evidence suports most of these hits\n"
   ]
  },
  {
   "cell_type": "code",
   "execution_count": 140,
   "id": "614285a2-4d30-4fee-94da-1efb68299c09",
   "metadata": {},
   "outputs": [
    {
     "name": "stdout",
     "output_type": "stream",
     "text": [
      "{\"frequency\": \"\", \"identification\": \"tetramer-sort\", \"sequencing\": \"sanger\", \"singlecell\": \"\", \"verification\": \"\"}\n",
      "{\"frequency\": \"\", \"identification\": \"tetramer-sort\", \"sequencing\": \"sanger\", \"singlecell\": \"\", \"verification\": \"\"}\n",
      "{\"frequency\": \"21/21\", \"identification\": \"CTL clone\", \"sequencing\": \"sanger\", \"singlecell\": \"\", \"verification\": \"pentamer-sort\"}\n",
      "{\"frequency\": \"21/21\", \"identification\": \"CTL clone\", \"sequencing\": \"sanger\", \"singlecell\": \"\", \"verification\": \"pentamer-sort\"}\n",
      "{\"frequency\": \"21/21\", \"identification\": \"CTL clone\", \"sequencing\": \"sanger\", \"singlecell\": \"\", \"verification\": \"pentamer-sort\"}\n",
      "{\"frequency\": \"21/21\", \"identification\": \"CTL clone\", \"sequencing\": \"sanger\", \"singlecell\": \"\", \"verification\": \"pentamer-sort\"}\n",
      "{\"frequency\": \"16/125\", \"identification\": \"cultured-T-cells\", \"sequencing\": \"sanger\", \"singlecell\": \"\", \"verification\": \"\"}\n",
      "{\"frequency\": \"16/125\", \"identification\": \"cultured-T-cells\", \"sequencing\": \"sanger\", \"singlecell\": \"\", \"verification\": \"\"}\n",
      "{\"frequency\": \"0.280%\", \"identification\": \"tetramer-sort\", \"sequencing\": \"amplicon-seq\", \"singlecell\": \"\", \"verification\": \"\"}\n",
      "{\"frequency\": \"0.280%\", \"identification\": \"tetramer-sort\", \"sequencing\": \"amplicon-seq\", \"singlecell\": \"\", \"verification\": \"\"}\n",
      "{\"frequency\": \"0.280%\", \"identification\": \"tetramer-sort\", \"sequencing\": \"amplicon-seq\", \"singlecell\": \"\", \"verification\": \"\"}\n",
      "{\"frequency\": \"99.92%\", \"identification\": \"tetramer-sort\", \"sequencing\": \"amplicon-seq\", \"singlecell\": \"\", \"verification\": \"\"}\n",
      "{\"frequency\": \"0.0016%\", \"identification\": \"antigen-loaded-targets,dextramer-sort\", \"sequencing\": \"amplicon-seq\", \"singlecell\": \"\", \"verification\": \"\"}\n",
      "{\"frequency\": \"0.0016%\", \"identification\": \"antigen-loaded-targets,dextramer-sort\", \"sequencing\": \"amplicon-seq\", \"singlecell\": \"\", \"verification\": \"\"}\n",
      "{\"frequency\": \"0.0016%\", \"identification\": \"antigen-loaded-targets,dextramer-sort\", \"sequencing\": \"amplicon-seq\", \"singlecell\": \"\", \"verification\": \"\"}\n",
      "{\"frequency\": \"6/125\", \"identification\": \"cultured-T-cells\", \"sequencing\": \"sanger\", \"singlecell\": \"\", \"verification\": \"\"}\n",
      "{\"frequency\": \"0.0011%\", \"identification\": \"antigen-loaded-targets,dextramer-sort\", \"sequencing\": \"amplicon-seq\", \"singlecell\": \"\", \"verification\": \"\"}\n",
      "{\"frequency\": \"0.0003%\", \"identification\": \"antigen-loaded-targets,dextramer-sort\", \"sequencing\": \"amplicon-seq\", \"singlecell\": \"\", \"verification\": \"\"}\n",
      "{\"frequency\": \"0.99%\", \"identification\": \"tetramer-sort\", \"sequencing\": \"amplicon-seq\", \"singlecell\": \"\", \"verification\": \"\"}\n",
      "{\"frequency\": \"0.99%\", \"identification\": \"tetramer-sort\", \"sequencing\": \"amplicon-seq\", \"singlecell\": \"\", \"verification\": \"\"}\n",
      "{\"frequency\": \"0.99%\", \"identification\": \"tetramer-sort\", \"sequencing\": \"amplicon-seq\", \"singlecell\": \"\", \"verification\": \"\"}\n",
      "{\"frequency\": \"6.15%\", \"identification\": \"tetramer-sort\", \"sequencing\": \"amplicon-seq\", \"singlecell\": \"\", \"verification\": \"\"}\n",
      "{\"frequency\": \"1/11684\", \"identification\": \"dextramer-sort\", \"sequencing\": \"rna-seq\", \"singlecell\": \"yes\", \"verification\": \"\"}\n",
      "{\"frequency\": \"1/33921\", \"identification\": \"dextramer-sort\", \"sequencing\": \"rna-seq\", \"singlecell\": \"yes\", \"verification\": \"\"}\n",
      "{\"frequency\": \"1/33921\", \"identification\": \"dextramer-sort\", \"sequencing\": \"rna-seq\", \"singlecell\": \"yes\", \"verification\": \"\"}\n",
      "{\"frequency\": \"1/33921\", \"identification\": \"dextramer-sort\", \"sequencing\": \"rna-seq\", \"singlecell\": \"yes\", \"verification\": \"\"}\n",
      "{\"frequency\": \"1/33921\", \"identification\": \"dextramer-sort\", \"sequencing\": \"rna-seq\", \"singlecell\": \"yes\", \"verification\": \"\"}\n",
      "{\"frequency\": \"1/33921\", \"identification\": \"dextramer-sort\", \"sequencing\": \"rna-seq\", \"singlecell\": \"yes\", \"verification\": \"\"}\n",
      "{\"frequency\": \"1/25584\", \"identification\": \"dextramer-sort\", \"sequencing\": \"rna-seq\", \"singlecell\": \"yes\", \"verification\": \"\"}\n",
      "{\"frequency\": \"1/25584\", \"identification\": \"dextramer-sort\", \"sequencing\": \"rna-seq\", \"singlecell\": \"yes\", \"verification\": \"\"}\n",
      "{\"frequency\": \"7/25584\", \"identification\": \"dextramer-sort\", \"sequencing\": \"rna-seq\", \"singlecell\": \"yes\", \"verification\": \"\"}\n",
      "{\"frequency\": \"1/25584\", \"identification\": \"dextramer-sort\", \"sequencing\": \"rna-seq\", \"singlecell\": \"yes\", \"verification\": \"\"}\n",
      "{\"frequency\": \"27/43002\", \"identification\": \"dextramer-sort\", \"sequencing\": \"amplicon-seq\", \"singlecell\": \"\", \"verification\": \"\"}\n",
      "{\"frequency\": \"27/43002\", \"identification\": \"dextramer-sort\", \"sequencing\": \"amplicon-seq\", \"singlecell\": \"\", \"verification\": \"\"}\n"
     ]
    }
   ],
   "source": [
    "for i, s in tcrb_hits.iterrows():\n",
    "    print(s.Method)"
   ]
  },
  {
   "cell_type": "markdown",
   "id": "6234b3e8-62ff-4129-a827-d3b167c6a4ca",
   "metadata": {},
   "source": [
    "It looks like most of the hits have good evidence"
   ]
  },
  {
   "cell_type": "markdown",
   "id": "29ee752b-62cf-421d-87de-4cb18731b69a",
   "metadata": {},
   "source": [
    "# Write out the hits and tcr merged data"
   ]
  },
  {
   "cell_type": "code",
   "execution_count": 142,
   "id": "376ff6ee-8636-428e-8337-ef34c626ca16",
   "metadata": {},
   "outputs": [],
   "source": [
    "tcrb_hits.to_csv('VDJdb_TabulaSapiens_hitsV2.tsv', sep='\\t')"
   ]
  },
  {
   "cell_type": "code",
   "execution_count": null,
   "id": "585d4ed9-bacb-4d9c-9945-06780159e0b6",
   "metadata": {},
   "outputs": [],
   "source": []
  }
 ],
 "metadata": {
  "kernelspec": {
   "display_name": "Python 3 (ipykernel)",
   "language": "python",
   "name": "python3"
  },
  "language_info": {
   "codemirror_mode": {
    "name": "ipython",
    "version": 3
   },
   "file_extension": ".py",
   "mimetype": "text/x-python",
   "name": "python",
   "nbconvert_exporter": "python",
   "pygments_lexer": "ipython3",
   "version": "3.8.11"
  }
 },
 "nbformat": 4,
 "nbformat_minor": 5
}
