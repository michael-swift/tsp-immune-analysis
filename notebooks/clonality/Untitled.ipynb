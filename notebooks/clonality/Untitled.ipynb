{
 "cells": [
  {
   "cell_type": "code",
   "execution_count": 1,
   "id": "b54c97ca-6ed5-4e5a-9f32-ca742a43e02a",
   "metadata": {},
   "outputs": [],
   "source": [
    "import pandas as pd"
   ]
  },
  {
   "cell_type": "markdown",
   "id": "b41720a4-a58a-42b1-92ea-e1a996f4959b",
   "metadata": {},
   "source": [
    "- I downloaded a curated database of TCR / epitope pairings. The evidence supporting the large majority of the pairings is dextramer, tetramer, or multimer sorting and then sequencing. Often this is single-cell data\n",
    "- I cross-referenced the database with the Tabula Sapiens database of TCRs that I created\n",
    "- When I do this I end up with around 25 TCR Betas with exact matches in the database of TCR / epitope pairings, this is about 1/100 of the TCRBs in Tabula Sapiens currently\n",
    "    \n",
    "    - EBV           12 peptides\n",
    "    - CMV            8 peptides\n",
    "    - InfluenzaA     5 peptides\n",
    "    \n",
    "- EBV binding T cells are also inferred:\n",
    "        - in TSP2, TSP7\n",
    "            - in TSP7 the one EBV specific T cell is in the tongue\n",
    "            - in TSP2 the EBV specific T cells are distributed amongst multiple immune organs\n",
    "            \n",
    "- There doesn't appear to be enrichment for a specific cell ontology class in these T cells which bind these viruses, which is expected"
   ]
  },
  {
   "cell_type": "code",
   "execution_count": 183,
   "id": "778d98ff-6472-4b8f-a094-f8fa8ddb0b31",
   "metadata": {},
   "outputs": [
    {
     "data": {
      "text/html": [
       "<div>\n",
       "<style scoped>\n",
       "    .dataframe tbody tr th:only-of-type {\n",
       "        vertical-align: middle;\n",
       "    }\n",
       "\n",
       "    .dataframe tbody tr th {\n",
       "        vertical-align: top;\n",
       "    }\n",
       "\n",
       "    .dataframe thead th {\n",
       "        text-align: right;\n",
       "    }\n",
       "</style>\n",
       "<table border=\"1\" class=\"dataframe\">\n",
       "  <thead>\n",
       "    <tr style=\"text-align: right;\">\n",
       "      <th></th>\n",
       "      <th>complex.id</th>\n",
       "      <th>Gene</th>\n",
       "      <th>CDR3</th>\n",
       "      <th>V</th>\n",
       "      <th>J</th>\n",
       "      <th>Species</th>\n",
       "      <th>MHC A</th>\n",
       "      <th>MHC B</th>\n",
       "      <th>MHC class</th>\n",
       "      <th>Epitope</th>\n",
       "      <th>Epitope gene</th>\n",
       "      <th>Epitope species</th>\n",
       "      <th>Reference</th>\n",
       "      <th>Method</th>\n",
       "      <th>Meta</th>\n",
       "      <th>CDR3fix</th>\n",
       "      <th>Score</th>\n",
       "    </tr>\n",
       "  </thead>\n",
       "  <tbody>\n",
       "    <tr>\n",
       "      <th>0</th>\n",
       "      <td>1</td>\n",
       "      <td>TRB</td>\n",
       "      <td>CASSYLPGQGDHYSNQPQHF</td>\n",
       "      <td>TRBV13*01</td>\n",
       "      <td>TRBJ1-5*01</td>\n",
       "      <td>HomoSapiens</td>\n",
       "      <td>HLA-B*08</td>\n",
       "      <td>B2M</td>\n",
       "      <td>MHCI</td>\n",
       "      <td>FLKEKGGL</td>\n",
       "      <td>Nef</td>\n",
       "      <td>HIV-1</td>\n",
       "      <td>PMID:15596521</td>\n",
       "      <td>{\"frequency\": \"\", \"identification\": \"tetramer-...</td>\n",
       "      <td>{\"cell.subset\": \"CD8+\", \"clone.id\": \"\", \"donor...</td>\n",
       "      <td>{\"cdr3\": \"CASSYLPGQGDHYSNQPQHF\", \"cdr3_old\": \"...</td>\n",
       "      <td>2</td>\n",
       "    </tr>\n",
       "    <tr>\n",
       "      <th>1</th>\n",
       "      <td>0</td>\n",
       "      <td>TRB</td>\n",
       "      <td>CASSFEAGQGFFSNQPQHF</td>\n",
       "      <td>TRBV13*01</td>\n",
       "      <td>TRBJ1-5*01</td>\n",
       "      <td>HomoSapiens</td>\n",
       "      <td>HLA-B*08</td>\n",
       "      <td>B2M</td>\n",
       "      <td>MHCI</td>\n",
       "      <td>FLKEKGGL</td>\n",
       "      <td>Nef</td>\n",
       "      <td>HIV-1</td>\n",
       "      <td>PMID:15596521</td>\n",
       "      <td>{\"frequency\": \"\", \"identification\": \"tetramer-...</td>\n",
       "      <td>{\"cell.subset\": \"CD8+\", \"clone.id\": \"\", \"donor...</td>\n",
       "      <td>{\"cdr3\": \"CASSFEAGQGFFSNQPQHF\", \"cdr3_old\": \"C...</td>\n",
       "      <td>2</td>\n",
       "    </tr>\n",
       "    <tr>\n",
       "      <th>2</th>\n",
       "      <td>2</td>\n",
       "      <td>TRB</td>\n",
       "      <td>CASSFEPGQGFYSNQPQHF</td>\n",
       "      <td>TRBV13*01</td>\n",
       "      <td>TRBJ1-5*01</td>\n",
       "      <td>HomoSapiens</td>\n",
       "      <td>HLA-B*08</td>\n",
       "      <td>B2M</td>\n",
       "      <td>MHCI</td>\n",
       "      <td>FLKEKGGL</td>\n",
       "      <td>Nef</td>\n",
       "      <td>HIV-1</td>\n",
       "      <td>PMID:15596521</td>\n",
       "      <td>{\"frequency\": \"\", \"identification\": \"tetramer-...</td>\n",
       "      <td>{\"cell.subset\": \"CD8+\", \"clone.id\": \"\", \"donor...</td>\n",
       "      <td>{\"cdr3\": \"CASSFEPGQGFYSNQPQHF\", \"cdr3_old\": \"C...</td>\n",
       "      <td>2</td>\n",
       "    </tr>\n",
       "    <tr>\n",
       "      <th>3</th>\n",
       "      <td>3</td>\n",
       "      <td>TRB</td>\n",
       "      <td>CASSYEPGQVSHYSNQPQHF</td>\n",
       "      <td>TRBV13*01</td>\n",
       "      <td>TRBJ1-5*01</td>\n",
       "      <td>HomoSapiens</td>\n",
       "      <td>HLA-B*08</td>\n",
       "      <td>B2M</td>\n",
       "      <td>MHCI</td>\n",
       "      <td>FLKEKGGL</td>\n",
       "      <td>Nef</td>\n",
       "      <td>HIV-1</td>\n",
       "      <td>PMID:15596521</td>\n",
       "      <td>{\"frequency\": \"\", \"identification\": \"tetramer-...</td>\n",
       "      <td>{\"cell.subset\": \"CD8+\", \"clone.id\": \"\", \"donor...</td>\n",
       "      <td>{\"cdr3\": \"CASSYEPGQVSHYSNQPQHF\", \"cdr3_old\": \"...</td>\n",
       "      <td>2</td>\n",
       "    </tr>\n",
       "    <tr>\n",
       "      <th>4</th>\n",
       "      <td>4</td>\n",
       "      <td>TRB</td>\n",
       "      <td>CASSALASLNEQFF</td>\n",
       "      <td>TRBV14*01</td>\n",
       "      <td>TRBJ2-1*01</td>\n",
       "      <td>HomoSapiens</td>\n",
       "      <td>HLA-B*08</td>\n",
       "      <td>B2M</td>\n",
       "      <td>MHCI</td>\n",
       "      <td>FLKEKGGL</td>\n",
       "      <td>Nef</td>\n",
       "      <td>HIV-1</td>\n",
       "      <td>PMID:15596521</td>\n",
       "      <td>{\"frequency\": \"\", \"identification\": \"tetramer-...</td>\n",
       "      <td>{\"cell.subset\": \"CD8+\", \"clone.id\": \"\", \"donor...</td>\n",
       "      <td>{\"cdr3\": \"CASSALASLNEQFF\", \"cdr3_old\": \"CASSAL...</td>\n",
       "      <td>2</td>\n",
       "    </tr>\n",
       "    <tr>\n",
       "      <th>...</th>\n",
       "      <td>...</td>\n",
       "      <td>...</td>\n",
       "      <td>...</td>\n",
       "      <td>...</td>\n",
       "      <td>...</td>\n",
       "      <td>...</td>\n",
       "      <td>...</td>\n",
       "      <td>...</td>\n",
       "      <td>...</td>\n",
       "      <td>...</td>\n",
       "      <td>...</td>\n",
       "      <td>...</td>\n",
       "      <td>...</td>\n",
       "      <td>...</td>\n",
       "      <td>...</td>\n",
       "      <td>...</td>\n",
       "      <td>...</td>\n",
       "    </tr>\n",
       "    <tr>\n",
       "      <th>73427</th>\n",
       "      <td>26171</td>\n",
       "      <td>TRA</td>\n",
       "      <td>CAVRHTNAGKSTF</td>\n",
       "      <td>TRAV21*01</td>\n",
       "      <td>TRAJ27*01</td>\n",
       "      <td>HomoSapiens</td>\n",
       "      <td>HLA-A*24:01</td>\n",
       "      <td>B2M</td>\n",
       "      <td>MHCI</td>\n",
       "      <td>QYIKWPWYI</td>\n",
       "      <td>Spike</td>\n",
       "      <td>SARS-CoV-2</td>\n",
       "      <td>PMID:34086357</td>\n",
       "      <td>{\"frequency\": \"1/11\", \"identification\": \"tetra...</td>\n",
       "      <td>{\"cell.subset\": \"CD8+\", \"clone.id\": \"\", \"donor...</td>\n",
       "      <td>{\"cdr3\": \"CAVRHTNAGKSTF\", \"cdr3_old\": \"CAVRHTN...</td>\n",
       "      <td>1</td>\n",
       "    </tr>\n",
       "    <tr>\n",
       "      <th>73428</th>\n",
       "      <td>26172</td>\n",
       "      <td>TRA</td>\n",
       "      <td>CAFLNAGGTSYGKLTF</td>\n",
       "      <td>TRAV38-1*01</td>\n",
       "      <td>TRAJ52*01</td>\n",
       "      <td>HomoSapiens</td>\n",
       "      <td>HLA-A*24:01</td>\n",
       "      <td>B2M</td>\n",
       "      <td>MHCI</td>\n",
       "      <td>QYIKWPWYI</td>\n",
       "      <td>Spike</td>\n",
       "      <td>SARS-CoV-2</td>\n",
       "      <td>PMID:34086357</td>\n",
       "      <td>{\"frequency\": \"1/11\", \"identification\": \"tetra...</td>\n",
       "      <td>{\"cell.subset\": \"CD8+\", \"clone.id\": \"\", \"donor...</td>\n",
       "      <td>{\"cdr3\": \"CAFLNAGGTSYGKLTF\", \"cdr3_old\": \"CAFL...</td>\n",
       "      <td>1</td>\n",
       "    </tr>\n",
       "    <tr>\n",
       "      <th>73430</th>\n",
       "      <td>26174</td>\n",
       "      <td>TRA</td>\n",
       "      <td>CAVRALYNFNKFYF</td>\n",
       "      <td>TRAV3*01</td>\n",
       "      <td>TRAJ21*01</td>\n",
       "      <td>HomoSapiens</td>\n",
       "      <td>HLA-A*24:01</td>\n",
       "      <td>B2M</td>\n",
       "      <td>MHCI</td>\n",
       "      <td>QYIKWPWYI</td>\n",
       "      <td>Spike</td>\n",
       "      <td>SARS-CoV-2</td>\n",
       "      <td>PMID:34086357</td>\n",
       "      <td>{\"frequency\": \"1/11\", \"identification\": \"tetra...</td>\n",
       "      <td>{\"cell.subset\": \"CD8+\", \"clone.id\": \"\", \"donor...</td>\n",
       "      <td>{\"cdr3\": \"CAVRALYNFNKFYF\", \"cdr3_old\": \"CAVRAL...</td>\n",
       "      <td>1</td>\n",
       "    </tr>\n",
       "    <tr>\n",
       "      <th>73431</th>\n",
       "      <td>26175</td>\n",
       "      <td>TRA</td>\n",
       "      <td>CAVESYNTDKLIF</td>\n",
       "      <td>TRAV41*01</td>\n",
       "      <td>TRAJ34*01</td>\n",
       "      <td>HomoSapiens</td>\n",
       "      <td>HLA-A*24:01</td>\n",
       "      <td>B2M</td>\n",
       "      <td>MHCI</td>\n",
       "      <td>QYIKWPWYI</td>\n",
       "      <td>Spike</td>\n",
       "      <td>SARS-CoV-2</td>\n",
       "      <td>PMID:34086357</td>\n",
       "      <td>{\"frequency\": \"1/11\", \"identification\": \"tetra...</td>\n",
       "      <td>{\"cell.subset\": \"CD8+\", \"clone.id\": \"\", \"donor...</td>\n",
       "      <td>{\"cdr3\": \"CAVESYNTDKLIF\", \"cdr3_old\": \"CAVESYN...</td>\n",
       "      <td>1</td>\n",
       "    </tr>\n",
       "    <tr>\n",
       "      <th>73432</th>\n",
       "      <td>26176</td>\n",
       "      <td>TRA</td>\n",
       "      <td>CAMREGQGNAGNMLTF</td>\n",
       "      <td>TRAV14/DV4*01</td>\n",
       "      <td>TRAJ39*01</td>\n",
       "      <td>HomoSapiens</td>\n",
       "      <td>HLA-A*24:01</td>\n",
       "      <td>B2M</td>\n",
       "      <td>MHCI</td>\n",
       "      <td>QYIKWPWYI</td>\n",
       "      <td>Spike</td>\n",
       "      <td>SARS-CoV-2</td>\n",
       "      <td>PMID:34086357</td>\n",
       "      <td>{\"frequency\": \"2/11\", \"identification\": \"tetra...</td>\n",
       "      <td>{\"cell.subset\": \"CD8+\", \"clone.id\": \"\", \"donor...</td>\n",
       "      <td>{\"cdr3\": \"CAMREGQGNAGNMLTF\", \"cdr3_old\": \"CAMR...</td>\n",
       "      <td>1</td>\n",
       "    </tr>\n",
       "  </tbody>\n",
       "</table>\n",
       "<p>54181 rows × 17 columns</p>\n",
       "</div>"
      ],
      "text/plain": [
       "       complex.id Gene                  CDR3              V           J  \\\n",
       "0               1  TRB  CASSYLPGQGDHYSNQPQHF      TRBV13*01  TRBJ1-5*01   \n",
       "1               0  TRB   CASSFEAGQGFFSNQPQHF      TRBV13*01  TRBJ1-5*01   \n",
       "2               2  TRB   CASSFEPGQGFYSNQPQHF      TRBV13*01  TRBJ1-5*01   \n",
       "3               3  TRB  CASSYEPGQVSHYSNQPQHF      TRBV13*01  TRBJ1-5*01   \n",
       "4               4  TRB        CASSALASLNEQFF      TRBV14*01  TRBJ2-1*01   \n",
       "...           ...  ...                   ...            ...         ...   \n",
       "73427       26171  TRA         CAVRHTNAGKSTF      TRAV21*01   TRAJ27*01   \n",
       "73428       26172  TRA      CAFLNAGGTSYGKLTF    TRAV38-1*01   TRAJ52*01   \n",
       "73430       26174  TRA        CAVRALYNFNKFYF       TRAV3*01   TRAJ21*01   \n",
       "73431       26175  TRA         CAVESYNTDKLIF      TRAV41*01   TRAJ34*01   \n",
       "73432       26176  TRA      CAMREGQGNAGNMLTF  TRAV14/DV4*01   TRAJ39*01   \n",
       "\n",
       "           Species        MHC A MHC B MHC class    Epitope Epitope gene  \\\n",
       "0      HomoSapiens     HLA-B*08   B2M      MHCI   FLKEKGGL          Nef   \n",
       "1      HomoSapiens     HLA-B*08   B2M      MHCI   FLKEKGGL          Nef   \n",
       "2      HomoSapiens     HLA-B*08   B2M      MHCI   FLKEKGGL          Nef   \n",
       "3      HomoSapiens     HLA-B*08   B2M      MHCI   FLKEKGGL          Nef   \n",
       "4      HomoSapiens     HLA-B*08   B2M      MHCI   FLKEKGGL          Nef   \n",
       "...            ...          ...   ...       ...        ...          ...   \n",
       "73427  HomoSapiens  HLA-A*24:01   B2M      MHCI  QYIKWPWYI        Spike   \n",
       "73428  HomoSapiens  HLA-A*24:01   B2M      MHCI  QYIKWPWYI        Spike   \n",
       "73430  HomoSapiens  HLA-A*24:01   B2M      MHCI  QYIKWPWYI        Spike   \n",
       "73431  HomoSapiens  HLA-A*24:01   B2M      MHCI  QYIKWPWYI        Spike   \n",
       "73432  HomoSapiens  HLA-A*24:01   B2M      MHCI  QYIKWPWYI        Spike   \n",
       "\n",
       "      Epitope species      Reference  \\\n",
       "0               HIV-1  PMID:15596521   \n",
       "1               HIV-1  PMID:15596521   \n",
       "2               HIV-1  PMID:15596521   \n",
       "3               HIV-1  PMID:15596521   \n",
       "4               HIV-1  PMID:15596521   \n",
       "...               ...            ...   \n",
       "73427      SARS-CoV-2  PMID:34086357   \n",
       "73428      SARS-CoV-2  PMID:34086357   \n",
       "73430      SARS-CoV-2  PMID:34086357   \n",
       "73431      SARS-CoV-2  PMID:34086357   \n",
       "73432      SARS-CoV-2  PMID:34086357   \n",
       "\n",
       "                                                  Method  \\\n",
       "0      {\"frequency\": \"\", \"identification\": \"tetramer-...   \n",
       "1      {\"frequency\": \"\", \"identification\": \"tetramer-...   \n",
       "2      {\"frequency\": \"\", \"identification\": \"tetramer-...   \n",
       "3      {\"frequency\": \"\", \"identification\": \"tetramer-...   \n",
       "4      {\"frequency\": \"\", \"identification\": \"tetramer-...   \n",
       "...                                                  ...   \n",
       "73427  {\"frequency\": \"1/11\", \"identification\": \"tetra...   \n",
       "73428  {\"frequency\": \"1/11\", \"identification\": \"tetra...   \n",
       "73430  {\"frequency\": \"1/11\", \"identification\": \"tetra...   \n",
       "73431  {\"frequency\": \"1/11\", \"identification\": \"tetra...   \n",
       "73432  {\"frequency\": \"2/11\", \"identification\": \"tetra...   \n",
       "\n",
       "                                                    Meta  \\\n",
       "0      {\"cell.subset\": \"CD8+\", \"clone.id\": \"\", \"donor...   \n",
       "1      {\"cell.subset\": \"CD8+\", \"clone.id\": \"\", \"donor...   \n",
       "2      {\"cell.subset\": \"CD8+\", \"clone.id\": \"\", \"donor...   \n",
       "3      {\"cell.subset\": \"CD8+\", \"clone.id\": \"\", \"donor...   \n",
       "4      {\"cell.subset\": \"CD8+\", \"clone.id\": \"\", \"donor...   \n",
       "...                                                  ...   \n",
       "73427  {\"cell.subset\": \"CD8+\", \"clone.id\": \"\", \"donor...   \n",
       "73428  {\"cell.subset\": \"CD8+\", \"clone.id\": \"\", \"donor...   \n",
       "73430  {\"cell.subset\": \"CD8+\", \"clone.id\": \"\", \"donor...   \n",
       "73431  {\"cell.subset\": \"CD8+\", \"clone.id\": \"\", \"donor...   \n",
       "73432  {\"cell.subset\": \"CD8+\", \"clone.id\": \"\", \"donor...   \n",
       "\n",
       "                                                 CDR3fix  Score  \n",
       "0      {\"cdr3\": \"CASSYLPGQGDHYSNQPQHF\", \"cdr3_old\": \"...      2  \n",
       "1      {\"cdr3\": \"CASSFEAGQGFFSNQPQHF\", \"cdr3_old\": \"C...      2  \n",
       "2      {\"cdr3\": \"CASSFEPGQGFYSNQPQHF\", \"cdr3_old\": \"C...      2  \n",
       "3      {\"cdr3\": \"CASSYEPGQVSHYSNQPQHF\", \"cdr3_old\": \"...      2  \n",
       "4      {\"cdr3\": \"CASSALASLNEQFF\", \"cdr3_old\": \"CASSAL...      2  \n",
       "...                                                  ...    ...  \n",
       "73427  {\"cdr3\": \"CAVRHTNAGKSTF\", \"cdr3_old\": \"CAVRHTN...      1  \n",
       "73428  {\"cdr3\": \"CAFLNAGGTSYGKLTF\", \"cdr3_old\": \"CAFL...      1  \n",
       "73430  {\"cdr3\": \"CAVRALYNFNKFYF\", \"cdr3_old\": \"CAVRAL...      1  \n",
       "73431  {\"cdr3\": \"CAVESYNTDKLIF\", \"cdr3_old\": \"CAVESYN...      1  \n",
       "73432  {\"cdr3\": \"CAMREGQGNAGNMLTF\", \"cdr3_old\": \"CAMR...      1  \n",
       "\n",
       "[54181 rows x 17 columns]"
      ]
     },
     "execution_count": 183,
     "metadata": {},
     "output_type": "execute_result"
    }
   ],
   "source": [
    "tcr_db.drop_duplicates('CDR3')"
   ]
  },
  {
   "cell_type": "code",
   "execution_count": 160,
   "id": "79f4ef09-187c-4842-a825-5e96ff58f934",
   "metadata": {},
   "outputs": [
    {
     "name": "stdout",
     "output_type": "stream",
     "text": [
      "577 exact CDR3 matches in VDJdb\n"
     ]
    }
   ],
   "source": [
    "# load VDJdb curated database of TCR / epitope pairings\n",
    "#https://vdjdb.cdr3.net/search\n",
    "tcr_db = pd.read_table('/home/michaelswift/Downloads/SearchTable-2021-11-08 01 39 17.43.tsv')\n",
    "# load summary table from Tabula Sapiens\n",
    "ts_tcrs = pd.read_table('../../data/SuppTab6_BCRslashTCRSummary.tsv')\n",
    "\n",
    "# subset to TCR\n",
    "ts_tcrs = ts_tcrs[ts_tcrs.receptor_type == 'TCR']\n",
    "\n",
    "# exact cdr3 matches\n",
    "cdr3_hits = pd.merge(tcr_db, ts_tcrs, left_on='CDR3', right_on=\"IR_VDJ_1_junction_aa\")\n",
    "\n",
    "print(cdr3_hits.shape[0], \"exact CDR3 matches in VDJdb\")\n",
    "\n",
    "#create table of exact tcrB matches from TS into VDJdb\n",
    "tcrb_hits = cdr3_hits[(cdr3_hits['V'] == cdr3_hits['IR_VDJ_1_v_call']) & (cdr3_hits['J'] == cdr3_hits['IR_VDJ_1_j_call'])]\n",
    "# drop duplicates\n",
    "\n",
    "tcrb_hits = tcrb_hits.drop_duplicates(subset = 'cell_identifier', keep='last')"
   ]
  },
  {
   "cell_type": "markdown",
   "id": "54ff4472-31a2-4429-b289-b341f632b0f7",
   "metadata": {},
   "source": [
    "## How many exact matching TCRB sequences are both Tabula Sapiens and the VDJdb?"
   ]
  },
  {
   "cell_type": "code",
   "execution_count": 161,
   "id": "61c7b313-e9c3-42e7-a2bb-7db0f2388801",
   "metadata": {},
   "outputs": [
    {
     "name": "stdout",
     "output_type": "stream",
     "text": [
      "exact TCRB matches from TS found in VDJdb:   25\n",
      "TS cdr3 database size:   2904\n",
      "VDJdb database size:   73433\n"
     ]
    }
   ],
   "source": [
    "print(\"exact TCRB matches from TS found in VDJdb:  \", tcrb_hits.shape[0] )\n",
    "print(\"TS cdr3 database size:  \", ts_tcrs.IR_VDJ_1_junction_aa.dropna().shape[0])\n",
    "print(\"VDJdb database size:  \", tcr_db.shape[0])"
   ]
  },
  {
   "cell_type": "markdown",
   "id": "c5eb69e6-d018-44db-88a8-ec9197fb54e0",
   "metadata": {},
   "source": [
    "## What organism are these inferred binding interactions from? "
   ]
  },
  {
   "cell_type": "code",
   "execution_count": 162,
   "id": "51523321-47dd-4622-a8af-fb6dfa847b63",
   "metadata": {},
   "outputs": [
    {
     "data": {
      "text/plain": [
       "EBV           12\n",
       "CMV            8\n",
       "InfluenzaA     5\n",
       "Name: Epitope species, dtype: int64"
      ]
     },
     "execution_count": 162,
     "metadata": {},
     "output_type": "execute_result"
    }
   ],
   "source": [
    "tcrb_hits['Epitope species'].value_counts()"
   ]
  },
  {
   "cell_type": "code",
   "execution_count": 163,
   "id": "1c3de2ea-c06c-4793-b569-0abaadc895e4",
   "metadata": {},
   "outputs": [
    {
     "data": {
      "text/plain": [
       "KLGGALQAK         5\n",
       "FLRGRAYGL         4\n",
       "GLCTLVAML         4\n",
       "GILGFVFTL         3\n",
       "NLVPMVATV         3\n",
       "RAKFKQLL          3\n",
       "GLIYNRMGAVTTEV    2\n",
       "AVFDRKSDAK        1\n",
       "Name: Epitope, dtype: int64"
      ]
     },
     "execution_count": 163,
     "metadata": {},
     "output_type": "execute_result"
    }
   ],
   "source": [
    "tcrb_hits['Epitope'].value_counts()"
   ]
  },
  {
   "cell_type": "markdown",
   "id": "c3bde433-5293-4d16-84ff-c985c39e610b",
   "metadata": {},
   "source": [
    "GILGFVFTL is a well studied epitope known to be immunodominant for the flu Matrix protein: \n",
    "\n",
    "https://www.ncbi.nlm.nih.gov/pmc/articles/PMC4178881/\n",
    "\n",
    "RAKFKQLL is a well studied epitope known to show positive T cells in EBV seropositive individuals"
   ]
  },
  {
   "cell_type": "markdown",
   "id": "4d9b8a3e-8efe-4f59-bb93-d26ba7937ae2",
   "metadata": {},
   "source": [
    "# What genes are being targeted by these TCRBs?"
   ]
  },
  {
   "cell_type": "code",
   "execution_count": 164,
   "id": "46a735fa-89f3-47ce-9c20-c9b2164d5e62",
   "metadata": {},
   "outputs": [
    {
     "data": {
      "text/plain": [
       "Epitope species  Epitope gene\n",
       "CMV              IE1             5\n",
       "                 pp65            3\n",
       "EBV              BMLF1           4\n",
       "                 EBNA3A          4\n",
       "                 BZLF1           3\n",
       "                 EBNA4           1\n",
       "InfluenzaA       M               3\n",
       "                 M1              2\n",
       "Name: Epitope gene, dtype: int64"
      ]
     },
     "execution_count": 164,
     "metadata": {},
     "output_type": "execute_result"
    }
   ],
   "source": [
    "tcrb_hits.groupby('Epitope species')['Epitope gene'].value_counts()"
   ]
  },
  {
   "cell_type": "markdown",
   "id": "04e01370-3c29-412e-aa28-68882feb742a",
   "metadata": {},
   "source": [
    "Here is a wholistic looks at the species which bind and their epitopes"
   ]
  },
  {
   "cell_type": "code",
   "execution_count": 165,
   "id": "0b20fefa-5365-482a-9678-7f7f9f181666",
   "metadata": {},
   "outputs": [
    {
     "data": {
      "text/plain": [
       "donor  tissue     \n",
       "TSP2   Bone_Marrow    3\n",
       "       Blood          2\n",
       "       Muscle         2\n",
       "       Kidney         1\n",
       "       Lymph_Node     1\n",
       "       Spleen         1\n",
       "TSP7   Tongue         2\n",
       "Name: tissue, dtype: int64"
      ]
     },
     "execution_count": 165,
     "metadata": {},
     "output_type": "execute_result"
    }
   ],
   "source": [
    "tcrb_hits[tcrb_hits['Epitope species'] == 'EBV'].groupby('donor').tissue.value_counts()"
   ]
  },
  {
   "cell_type": "code",
   "execution_count": 166,
   "id": "297c7859-61bf-436c-b724-a9eae2e5fd66",
   "metadata": {},
   "outputs": [
    {
     "data": {
      "text/plain": [
       "Prostate    69\n",
       "Name: tissue, dtype: int64"
      ]
     },
     "execution_count": 166,
     "metadata": {},
     "output_type": "execute_result"
    }
   ],
   "source": [
    "ts_tcrs[ts_tcrs.donor == 'TSP8'].tissue.value_counts()"
   ]
  },
  {
   "cell_type": "markdown",
   "id": "5001d52f-e0c3-453f-86ea-9feff5a92d4c",
   "metadata": {},
   "source": [
    "# Check out the autoimmune epitopes"
   ]
  },
  {
   "cell_type": "code",
   "execution_count": 167,
   "id": "28e6e257-dfc0-457f-97f8-50e502267724",
   "metadata": {},
   "outputs": [
    {
     "data": {
      "text/html": [
       "<div>\n",
       "<style scoped>\n",
       "    .dataframe tbody tr th:only-of-type {\n",
       "        vertical-align: middle;\n",
       "    }\n",
       "\n",
       "    .dataframe tbody tr th {\n",
       "        vertical-align: top;\n",
       "    }\n",
       "\n",
       "    .dataframe thead th {\n",
       "        text-align: right;\n",
       "    }\n",
       "</style>\n",
       "<table border=\"1\" class=\"dataframe\">\n",
       "  <thead>\n",
       "    <tr style=\"text-align: right;\">\n",
       "      <th></th>\n",
       "      <th>tissue</th>\n",
       "      <th>cell_ontology_class</th>\n",
       "      <th>Epitope gene</th>\n",
       "      <th>donor</th>\n",
       "    </tr>\n",
       "  </thead>\n",
       "  <tbody>\n",
       "  </tbody>\n",
       "</table>\n",
       "</div>"
      ],
      "text/plain": [
       "Empty DataFrame\n",
       "Columns: [tissue, cell_ontology_class, Epitope gene, donor]\n",
       "Index: []"
      ]
     },
     "execution_count": 167,
     "metadata": {},
     "output_type": "execute_result"
    }
   ],
   "source": [
    "tcrb_hits[tcrb_hits['Epitope species'] == 'HomoSapiens'][['tissue', 'cell_ontology_class', 'Epitope gene', 'donor']]"
   ]
  },
  {
   "cell_type": "markdown",
   "id": "a28ceee1-72a9-465c-98df-ed27ea1cee3e",
   "metadata": {},
   "source": [
    "MLANA is quite interesting, it is a protein that is expressed on the surface of melanocytes https://en.wikipedia.org/wiki/MLANA\n",
    "\n",
    "None of the T cells which presumably bind the MLANA protein were found in the skin, however this publication actually suggests they would be found anywhere. They exist in the repertoire at a level of aount 10^-3 and are generated during thymic selection.\n",
    "\n"
   ]
  },
  {
   "cell_type": "markdown",
   "id": "63d0606f-adf5-4b12-9e64-2d023b8b29ae",
   "metadata": {},
   "source": [
    "# What are the clone sizes of these T cells which bind mostly viral epitopes?"
   ]
  },
  {
   "cell_type": "code",
   "execution_count": 168,
   "id": "ca42edc7-e625-4ab7-bbf0-041f97ab6a0d",
   "metadata": {},
   "outputs": [
    {
     "data": {
      "text/plain": [
       "<AxesSubplot:>"
      ]
     },
     "execution_count": 168,
     "metadata": {},
     "output_type": "execute_result"
    },
    {
     "data": {
      "image/png": "[encoded data removed]",
      "text/plain": [
       "<Figure size 432x288 with 1 Axes>"
      ]
     },
     "metadata": {
      "needs_background": "light"
     },
     "output_type": "display_data"
    }
   ],
   "source": [
    "tcrb_hits.clone_id_size.hist()"
   ]
  },
  {
   "cell_type": "markdown",
   "id": "09759cec-09e1-458d-8ca9-ab35e1c62bc1",
   "metadata": {},
   "source": [
    "## What is the makeup of the VDJdb TCRB to epitope pairings? "
   ]
  },
  {
   "cell_type": "code",
   "execution_count": 169,
   "id": "516ab251-f4e7-4539-9eb5-3226c01920b2",
   "metadata": {},
   "outputs": [
    {
     "data": {
      "text/plain": [
       "CMV                          34614\n",
       "InfluenzaA                   11519\n",
       "EBV                          10855\n",
       "HomoSapiens                   4305\n",
       "SARS-CoV-2                    2834\n",
       "HIV-1                         2756\n",
       "SIV                           1982\n",
       "MCMV                          1435\n",
       "HCV                            827\n",
       "YFV                            697\n",
       "HTLV-1                         229\n",
       "DENV1                          177\n",
       "DENV3/4                        174\n",
       "PlasmodiumBerghei              170\n",
       "HSV-2                          152\n",
       "LCMV                           137\n",
       "RSV                            125\n",
       "synthetic                       92\n",
       "DENV2                           60\n",
       "M.tuberculosis                  56\n",
       "VSV                             54\n",
       "TriticumAestivum                51\n",
       "MusMusculus                     50\n",
       "HPV                             28\n",
       "GallusGallus                    16\n",
       "MCPyV                           10\n",
       "StreptomycesKanamyceticus        6\n",
       "E.Coli                           4\n",
       "ManducaSexta                     4\n",
       "Synthetic                        4\n",
       "PseudomonasAeruginosa            2\n",
       "PseudomonasFluorescens           2\n",
       "SelaginellaMoellendorffii        2\n",
       "SaccharomycesCerevisiae          2\n",
       "HHV                              2\n",
       "Name: Epitope species, dtype: int64"
      ]
     },
     "execution_count": 169,
     "metadata": {},
     "output_type": "execute_result"
    }
   ],
   "source": [
    "tcr_db['Epitope species'].value_counts()"
   ]
  },
  {
   "cell_type": "markdown",
   "id": "7bf2c994-cb9f-4f44-b96f-9997d320d1bf",
   "metadata": {},
   "source": [
    "## What are the annotated cell types of these"
   ]
  },
  {
   "cell_type": "code",
   "execution_count": 170,
   "id": "7c007dce-368e-40c7-888e-599e0a2a2e0f",
   "metadata": {},
   "outputs": [
    {
     "data": {
      "text/plain": [
       "cd8-positive, alpha-beta t cell                         9\n",
       "cd8-positive, alpha-beta memory t cell                  4\n",
       "cd4-positive, alpha-beta t cell                         3\n",
       "immune cell                                             3\n",
       "cd4-positive helper t cell                              2\n",
       "t cell                                                  2\n",
       "cd4-positive, alpha-beta memory t cell                  1\n",
       "naive thymus-derived cd4-positive, alpha-beta t cell    1\n",
       "Name: cell_ontology_class, dtype: int64"
      ]
     },
     "execution_count": 170,
     "metadata": {},
     "output_type": "execute_result"
    }
   ],
   "source": [
    "tcrb_hits.cell_ontology_class.value_counts()"
   ]
  },
  {
   "cell_type": "code",
   "execution_count": 171,
   "id": "ad88b4e9-5d56-48af-99ca-17a5b1bcd77c",
   "metadata": {},
   "outputs": [
    {
     "data": {
      "text/plain": [
       "cd8-positive, alpha-beta t cell                                716\n",
       "cd4-positive, alpha-beta t cell                                642\n",
       "t cell                                                         419\n",
       "cd4-positive, alpha-beta memory t cell                         316\n",
       "naive thymus-derived cd4-positive, alpha-beta t cell           305\n",
       "cd8-positive, alpha-beta memory t cell                         287\n",
       "innate lymphoid cell                                           209\n",
       "cd4-positive helper t cell                                     202\n",
       "immune cell                                                    166\n",
       "cd4-positive alpha-beta t cell                                 101\n",
       "regulatory t cell                                               54\n",
       "cd8-positive alpha-beta t cell                                  47\n",
       "nk cell                                                         40\n",
       "leucocyte                                                       34\n",
       "naive thymus-derived cd8-positive, alpha-beta t cell            31\n",
       "mature nk t cell                                                12\n",
       "memory b cell                                                   10\n",
       "cd8-positive, alpha-beta cytokine secreting effector t cell      9\n",
       "basal cell                                                       9\n",
       "plasma cell                                                      7\n",
       "type i nk t cell                                                 7\n",
       "b cell                                                           6\n",
       "dendritic cell                                                   6\n",
       "cd4-positive helper t cells                                      3\n",
       "macrophage                                                       3\n",
       "naive b cell                                                     2\n",
       "nkt cell                                                         2\n",
       "cd8-positive, alpha-beta cytotoxic t cell                        2\n",
       "myofibroblast cell                                               2\n",
       "mesenchymal stem cell                                            2\n",
       "fibroblast                                                       2\n",
       "thymocyte                                                        1\n",
       "hematopoietic stem cell                                          1\n",
       "low quality                                                      1\n",
       "skeletal muscle satellite stem cell                              1\n",
       "endothelial cell of vascular tree                                1\n",
       "monocyte                                                         1\n",
       "doublet                                                          1\n",
       "pericyte cell                                                    1\n",
       "endothelial cell                                                 1\n",
       "mature enterocyte                                                1\n",
       "melanocyte                                                       1\n",
       "stromal cell                                                     1\n",
       "Name: cell_ontology_class, dtype: int64"
      ]
     },
     "execution_count": 171,
     "metadata": {},
     "output_type": "execute_result"
    }
   ],
   "source": [
    "# All tcrs in TS to calibrate expected values\n",
    "ts_tcrs.cell_ontology_class.value_counts()"
   ]
  },
  {
   "cell_type": "markdown",
   "id": "b03b6a24-627a-4943-9fdb-501ceb2f8f89",
   "metadata": {},
   "source": [
    "It's possible there is a signal here, where the hits in VDJdb are more likely to be CD8-positive, alpha-beta t cells than random. It seems like an odd claim to make given the annotations are so weird. I think a statistical test could be done here to ask whether the viral binders are enriched for CD8-positive t cells (or any other type) but that test seems meaningless to me"
   ]
  },
  {
   "cell_type": "markdown",
   "id": "0f5efb08-d8ae-4cca-8d5b-0652387682e8",
   "metadata": {},
   "source": [
    "# are certain donors / tissues more or less likely to show up in this database? "
   ]
  },
  {
   "cell_type": "code",
   "execution_count": 172,
   "id": "cd3b04e9-3a5a-4c9b-ab12-0b66f4207b9c",
   "metadata": {},
   "outputs": [
    {
     "data": {
      "text/plain": [
       "Lymph_Node        882\n",
       "Bone_Marrow       503\n",
       "Blood             438\n",
       "Spleen            415\n",
       "Muscle            286\n",
       "Salivary_Gland    242\n",
       "Skin              190\n",
       "Tongue            176\n",
       "Fat               164\n",
       "Mammary            91\n",
       "Kidney             71\n",
       "Prostate           69\n",
       "Eye                61\n",
       "Uterus             39\n",
       "Vasculature        13\n",
       "Bladder             8\n",
       "Pancreas            5\n",
       "Liver               4\n",
       "Thymus              4\n",
       "Lung                3\n",
       "Trachea             1\n",
       "Name: tissue, dtype: int64"
      ]
     },
     "execution_count": 172,
     "metadata": {},
     "output_type": "execute_result"
    }
   ],
   "source": [
    "ts_tcrs.tissue.value_counts()"
   ]
  },
  {
   "cell_type": "code",
   "execution_count": 173,
   "id": "22792c76-8b9b-4b0a-9027-53f74784eb00",
   "metadata": {},
   "outputs": [
    {
     "data": {
      "text/plain": [
       "TSP2     1590\n",
       "TSP7     1169\n",
       "TSP4      263\n",
       "TSP10     229\n",
       "TSP11     204\n",
       "TSP13      70\n",
       "TSP8       69\n",
       "TSP3       32\n",
       "TSP5       29\n",
       "TSP9        5\n",
       "TSP6        5\n",
       "Name: donor, dtype: int64"
      ]
     },
     "execution_count": 173,
     "metadata": {},
     "output_type": "execute_result"
    }
   ],
   "source": [
    "ts_tcrs.donor.value_counts()"
   ]
  },
  {
   "cell_type": "code",
   "execution_count": 174,
   "id": "c98870ac-50e3-4cbf-80bc-d619fd95d3b5",
   "metadata": {},
   "outputs": [
    {
     "data": {
      "text/plain": [
       "Muscle            5\n",
       "Spleen            4\n",
       "Tongue            3\n",
       "Bone_Marrow       3\n",
       "Blood             2\n",
       "Lymph_Node        2\n",
       "Skin              2\n",
       "Prostate          1\n",
       "Kidney            1\n",
       "Eye               1\n",
       "Salivary_Gland    1\n",
       "Name: tissue, dtype: int64"
      ]
     },
     "execution_count": 174,
     "metadata": {},
     "output_type": "execute_result"
    }
   ],
   "source": [
    "tcrb_hits.tissue.value_counts()"
   ]
  },
  {
   "cell_type": "code",
   "execution_count": 175,
   "id": "78a40d20-d7c8-4c4d-b64e-3baaed1ba2e4",
   "metadata": {},
   "outputs": [
    {
     "data": {
      "text/plain": [
       "TSP2    17\n",
       "TSP7     6\n",
       "TSP8     1\n",
       "TSP5     1\n",
       "Name: donor, dtype: int64"
      ]
     },
     "execution_count": 175,
     "metadata": {},
     "output_type": "execute_result"
    }
   ],
   "source": [
    "tcrb_hits.donor.value_counts()"
   ]
  },
  {
   "cell_type": "code",
   "execution_count": 176,
   "id": "40489e72-0ead-4902-bb24-2b8aa50edf12",
   "metadata": {},
   "outputs": [
    {
     "data": {
      "text/plain": [
       "cd8-positive, alpha-beta t cell    1\n",
       "Name: cell_ontology_class, dtype: int64"
      ]
     },
     "execution_count": 176,
     "metadata": {},
     "output_type": "execute_result"
    }
   ],
   "source": [
    "tcrb_hits[tcrb_hits.tissue == 'Prostate'].cell_ontology_class.value_counts()"
   ]
  },
  {
   "cell_type": "code",
   "execution_count": 177,
   "id": "8be6d140-1376-412e-94ac-de44b2a6b280",
   "metadata": {},
   "outputs": [
    {
     "data": {
      "text/plain": [
       "donor  tissue        \n",
       "TSP2   Lymph_Node        1\n",
       "       Skin              1\n",
       "TSP7   Salivary_Gland    1\n",
       "       Spleen            1\n",
       "TSP8   Prostate          1\n",
       "Name: tissue, dtype: int64"
      ]
     },
     "execution_count": 177,
     "metadata": {},
     "output_type": "execute_result"
    }
   ],
   "source": [
    "tcrb_hits[tcrb_hits['Epitope species'] == 'InfluenzaA'].groupby(['donor']).tissue.value_counts()"
   ]
  },
  {
   "cell_type": "markdown",
   "id": "ae85b063-ab5d-47cb-916a-bd897fa95d1f",
   "metadata": {},
   "source": [
    "# what level of evidence suports most of these hits\n"
   ]
  },
  {
   "cell_type": "code",
   "execution_count": 178,
   "id": "614285a2-4d30-4fee-94da-1efb68299c09",
   "metadata": {},
   "outputs": [
    {
     "name": "stdout",
     "output_type": "stream",
     "text": [
      "{\"frequency\": \"21/21\", \"identification\": \"CTL clone\", \"sequencing\": \"sanger\", \"singlecell\": \"\", \"verification\": \"pentamer-sort\"}\n",
      "{\"frequency\": \"21/21\", \"identification\": \"CTL clone\", \"sequencing\": \"sanger\", \"singlecell\": \"\", \"verification\": \"pentamer-sort\"}\n",
      "{\"frequency\": \"21/21\", \"identification\": \"CTL clone\", \"sequencing\": \"sanger\", \"singlecell\": \"\", \"verification\": \"pentamer-sort\"}\n",
      "{\"frequency\": \"21/21\", \"identification\": \"CTL clone\", \"sequencing\": \"sanger\", \"singlecell\": \"\", \"verification\": \"pentamer-sort\"}\n",
      "{\"frequency\": \"16/125\", \"identification\": \"cultured-T-cells\", \"sequencing\": \"sanger\", \"singlecell\": \"\", \"verification\": \"\"}\n",
      "{\"frequency\": \"99.92%\", \"identification\": \"tetramer-sort\", \"sequencing\": \"amplicon-seq\", \"singlecell\": \"\", \"verification\": \"\"}\n",
      "{\"frequency\": \"0.0016%\", \"identification\": \"antigen-loaded-targets,dextramer-sort\", \"sequencing\": \"amplicon-seq\", \"singlecell\": \"\", \"verification\": \"\"}\n",
      "{\"frequency\": \"0.0016%\", \"identification\": \"antigen-loaded-targets,dextramer-sort\", \"sequencing\": \"amplicon-seq\", \"singlecell\": \"\", \"verification\": \"\"}\n",
      "{\"frequency\": \"0.0016%\", \"identification\": \"antigen-loaded-targets,dextramer-sort\", \"sequencing\": \"amplicon-seq\", \"singlecell\": \"\", \"verification\": \"\"}\n",
      "{\"frequency\": \"0.0011%\", \"identification\": \"antigen-loaded-targets,dextramer-sort\", \"sequencing\": \"amplicon-seq\", \"singlecell\": \"\", \"verification\": \"\"}\n",
      "{\"frequency\": \"0.0003%\", \"identification\": \"antigen-loaded-targets,dextramer-sort\", \"sequencing\": \"amplicon-seq\", \"singlecell\": \"\", \"verification\": \"\"}\n",
      "{\"frequency\": \"0.99%\", \"identification\": \"tetramer-sort\", \"sequencing\": \"amplicon-seq\", \"singlecell\": \"\", \"verification\": \"\"}\n",
      "{\"frequency\": \"0.99%\", \"identification\": \"tetramer-sort\", \"sequencing\": \"amplicon-seq\", \"singlecell\": \"\", \"verification\": \"\"}\n",
      "{\"frequency\": \"0.99%\", \"identification\": \"tetramer-sort\", \"sequencing\": \"amplicon-seq\", \"singlecell\": \"\", \"verification\": \"\"}\n",
      "{\"frequency\": \"1/11684\", \"identification\": \"dextramer-sort\", \"sequencing\": \"rna-seq\", \"singlecell\": \"yes\", \"verification\": \"\"}\n",
      "{\"frequency\": \"1/33921\", \"identification\": \"dextramer-sort\", \"sequencing\": \"rna-seq\", \"singlecell\": \"yes\", \"verification\": \"\"}\n",
      "{\"frequency\": \"1/33921\", \"identification\": \"dextramer-sort\", \"sequencing\": \"rna-seq\", \"singlecell\": \"yes\", \"verification\": \"\"}\n",
      "{\"frequency\": \"1/33921\", \"identification\": \"dextramer-sort\", \"sequencing\": \"rna-seq\", \"singlecell\": \"yes\", \"verification\": \"\"}\n",
      "{\"frequency\": \"1/33921\", \"identification\": \"dextramer-sort\", \"sequencing\": \"rna-seq\", \"singlecell\": \"yes\", \"verification\": \"\"}\n",
      "{\"frequency\": \"1/25584\", \"identification\": \"dextramer-sort\", \"sequencing\": \"rna-seq\", \"singlecell\": \"yes\", \"verification\": \"\"}\n",
      "{\"frequency\": \"1/25584\", \"identification\": \"dextramer-sort\", \"sequencing\": \"rna-seq\", \"singlecell\": \"yes\", \"verification\": \"\"}\n",
      "{\"frequency\": \"7/25584\", \"identification\": \"dextramer-sort\", \"sequencing\": \"rna-seq\", \"singlecell\": \"yes\", \"verification\": \"\"}\n",
      "{\"frequency\": \"1/25584\", \"identification\": \"dextramer-sort\", \"sequencing\": \"rna-seq\", \"singlecell\": \"yes\", \"verification\": \"\"}\n",
      "{\"frequency\": \"27/43002\", \"identification\": \"dextramer-sort\", \"sequencing\": \"amplicon-seq\", \"singlecell\": \"\", \"verification\": \"\"}\n",
      "{\"frequency\": \"27/43002\", \"identification\": \"dextramer-sort\", \"sequencing\": \"amplicon-seq\", \"singlecell\": \"\", \"verification\": \"\"}\n"
     ]
    }
   ],
   "source": [
    "for i, s in tcrb_hits.iterrows():\n",
    "    print(s.Method)"
   ]
  },
  {
   "cell_type": "code",
   "execution_count": 179,
   "id": "ef744c22-b3b5-4357-bfa2-4b7c84a1c24c",
   "metadata": {},
   "outputs": [
    {
     "data": {
      "text/plain": [
       "70     2\n",
       "71     2\n",
       "72     2\n",
       "73     2\n",
       "419    1\n",
       "456    1\n",
       "470    3\n",
       "471    3\n",
       "472    3\n",
       "477    1\n",
       "479    1\n",
       "514    1\n",
       "515    1\n",
       "516    1\n",
       "522    1\n",
       "528    2\n",
       "529    2\n",
       "530    1\n",
       "532    1\n",
       "536    1\n",
       "537    1\n",
       "538    1\n",
       "556    1\n",
       "570    1\n",
       "571    1\n",
       "Name: clone_id_size, dtype: int64"
      ]
     },
     "execution_count": 179,
     "metadata": {},
     "output_type": "execute_result"
    }
   ],
   "source": [
    "tcrb_hits.clone_id_size"
   ]
  },
  {
   "cell_type": "code",
   "execution_count": 181,
   "id": "376ff6ee-8636-428e-8337-ef34c626ca16",
   "metadata": {},
   "outputs": [],
   "source": [
    "tcrb_hits.to_csv('VDJdb_TabulaSapiens_hits.tsv', sep='\\t')"
   ]
  },
  {
   "cell_type": "code",
   "execution_count": null,
   "id": "585d4ed9-bacb-4d9c-9945-06780159e0b6",
   "metadata": {},
   "outputs": [],
   "source": []
  }
 ],
 "metadata": {
  "kernelspec": {
   "display_name": "Python 3 (ipykernel)",
   "language": "python",
   "name": "python3"
  },
  "language_info": {
   "codemirror_mode": {
    "name": "ipython",
    "version": 3
   },
   "file_extension": ".py",
   "mimetype": "text/x-python",
   "name": "python",
   "nbconvert_exporter": "python",
   "pygments_lexer": "ipython3",
   "version": "3.8.11"
  }
 },
 "nbformat": 4,
 "nbformat_minor": 5
}
